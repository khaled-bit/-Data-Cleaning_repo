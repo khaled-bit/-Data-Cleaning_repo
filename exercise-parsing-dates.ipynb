{
 "cells": [
  {
   "cell_type": "markdown",
   "id": "3ba02b6c",
   "metadata": {
    "papermill": {
     "duration": 0.009236,
     "end_time": "2022-07-19T02:02:30.845865",
     "exception": false,
     "start_time": "2022-07-19T02:02:30.836629",
     "status": "completed"
    },
    "tags": []
   },
   "source": [
    "**This notebook is an exercise in the [Data Cleaning](https://www.kaggle.com/learn/data-cleaning) course.  You can reference the tutorial at [this link](https://www.kaggle.com/alexisbcook/parsing-dates).**\n",
    "\n",
    "---\n"
   ]
  },
  {
   "cell_type": "markdown",
   "id": "4bb07a8b",
   "metadata": {
    "papermill": {
     "duration": 0.007825,
     "end_time": "2022-07-19T02:02:30.862939",
     "exception": false,
     "start_time": "2022-07-19T02:02:30.855114",
     "status": "completed"
    },
    "tags": []
   },
   "source": [
    "In this exercise, you'll apply what you learned in the **Parsing dates** tutorial.\n",
    "\n",
    "# Setup\n",
    "\n",
    "The questions below will give you feedback on your work. Run the following cell to set up the feedback system."
   ]
  },
  {
   "cell_type": "code",
   "execution_count": 1,
   "id": "15ba9e3e",
   "metadata": {
    "execution": {
     "iopub.execute_input": "2022-07-19T02:02:30.881629Z",
     "iopub.status.busy": "2022-07-19T02:02:30.881175Z",
     "iopub.status.idle": "2022-07-19T02:02:32.354120Z",
     "shell.execute_reply": "2022-07-19T02:02:32.351727Z"
    },
    "papermill": {
     "duration": 1.488914,
     "end_time": "2022-07-19T02:02:32.359901",
     "exception": false,
     "start_time": "2022-07-19T02:02:30.870987",
     "status": "completed"
    },
    "tags": []
   },
   "outputs": [
    {
     "name": "stdout",
     "output_type": "stream",
     "text": [
      "Setup Complete\n"
     ]
    }
   ],
   "source": [
    "from learntools.core import binder\n",
    "binder.bind(globals())\n",
    "from learntools.data_cleaning.ex3 import *\n",
    "print(\"Setup Complete\")"
   ]
  },
  {
   "cell_type": "markdown",
   "id": "09d441db",
   "metadata": {
    "papermill": {
     "duration": 0.008088,
     "end_time": "2022-07-19T02:02:32.376927",
     "exception": false,
     "start_time": "2022-07-19T02:02:32.368839",
     "status": "completed"
    },
    "tags": []
   },
   "source": [
    "# Get our environment set up\n",
    "\n",
    "The first thing we'll need to do is load in the libraries and dataset we'll be using. We'll be working with a dataset containing information on earthquakes that occured between 1965 and 2016."
   ]
  },
  {
   "cell_type": "code",
   "execution_count": 2,
   "id": "dd5d9720",
   "metadata": {
    "execution": {
     "iopub.execute_input": "2022-07-19T02:02:32.397708Z",
     "iopub.status.busy": "2022-07-19T02:02:32.396575Z",
     "iopub.status.idle": "2022-07-19T02:02:32.503969Z",
     "shell.execute_reply": "2022-07-19T02:02:32.502899Z"
    },
    "papermill": {
     "duration": 0.120877,
     "end_time": "2022-07-19T02:02:32.507036",
     "exception": false,
     "start_time": "2022-07-19T02:02:32.386159",
     "status": "completed"
    },
    "tags": []
   },
   "outputs": [],
   "source": [
    "# modules we'll use\n",
    "import pandas as pd\n",
    "import numpy as np\n",
    "import seaborn as sns\n",
    "import datetime\n",
    "\n",
    "# read in our data\n",
    "earthquakes = pd.read_csv(\"../input/earthquake-database/database.csv\")\n",
    "\n",
    "# set seed for reproducibility\n",
    "np.random.seed(0)"
   ]
  },
  {
   "cell_type": "markdown",
   "id": "d408b09b",
   "metadata": {
    "papermill": {
     "duration": 0.009581,
     "end_time": "2022-07-19T02:02:32.526422",
     "exception": false,
     "start_time": "2022-07-19T02:02:32.516841",
     "status": "completed"
    },
    "tags": []
   },
   "source": [
    "# 1) Check the data type of our date column\n",
    "\n",
    "You'll be working with the \"Date\" column from the `earthquakes` dataframe.  Investigate this column now: does it look like it contains dates?  What is the dtype of the column?"
   ]
  },
  {
   "cell_type": "code",
   "execution_count": 3,
   "id": "755c149f",
   "metadata": {
    "execution": {
     "iopub.execute_input": "2022-07-19T02:02:32.547562Z",
     "iopub.status.busy": "2022-07-19T02:02:32.546851Z",
     "iopub.status.idle": "2022-07-19T02:02:32.556504Z",
     "shell.execute_reply": "2022-07-19T02:02:32.555394Z"
    },
    "papermill": {
     "duration": 0.023354,
     "end_time": "2022-07-19T02:02:32.559585",
     "exception": false,
     "start_time": "2022-07-19T02:02:32.536231",
     "status": "completed"
    },
    "tags": []
   },
   "outputs": [
    {
     "data": {
      "text/plain": [
       "dtype('O')"
      ]
     },
     "execution_count": 3,
     "metadata": {},
     "output_type": "execute_result"
    }
   ],
   "source": [
    "# TODO: Your code here!\n",
    "earthquakes['Date'].dtype"
   ]
  },
  {
   "cell_type": "markdown",
   "id": "70f39974",
   "metadata": {
    "papermill": {
     "duration": 0.009174,
     "end_time": "2022-07-19T02:02:32.577294",
     "exception": false,
     "start_time": "2022-07-19T02:02:32.568120",
     "status": "completed"
    },
    "tags": []
   },
   "source": [
    "Once you have answered the question above, run the code cell below to get credit for your work."
   ]
  },
  {
   "cell_type": "code",
   "execution_count": 4,
   "id": "b99859a0",
   "metadata": {
    "execution": {
     "iopub.execute_input": "2022-07-19T02:02:32.598128Z",
     "iopub.status.busy": "2022-07-19T02:02:32.597206Z",
     "iopub.status.idle": "2022-07-19T02:02:32.607553Z",
     "shell.execute_reply": "2022-07-19T02:02:32.606318Z"
    },
    "papermill": {
     "duration": 0.023364,
     "end_time": "2022-07-19T02:02:32.610109",
     "exception": false,
     "start_time": "2022-07-19T02:02:32.586745",
     "status": "completed"
    },
    "tags": []
   },
   "outputs": [
    {
     "data": {
      "application/javascript": [
       "parent.postMessage({\"jupyterEvent\": \"custom.exercise_interaction\", \"data\": {\"outcomeType\": 1, \"valueTowardsCompletion\": 0.25, \"interactionType\": 1, \"questionType\": 4, \"questionId\": \"1_CheckDtype\", \"learnToolsVersion\": \"0.3.4\", \"failureMessage\": \"\", \"exceptionClass\": \"\", \"trace\": \"\"}}, \"*\")"
      ],
      "text/plain": [
       "<IPython.core.display.Javascript object>"
      ]
     },
     "metadata": {},
     "output_type": "display_data"
    },
    {
     "data": {
      "text/markdown": [
       "<span style=\"color:#33cc33\">Correct:</span> \n",
       "\n",
       "The \"Date\" column in the `earthquakes` DataFrame does have dates.  The dtype is \"object\"."
      ],
      "text/plain": [
       "Correct: \n",
       "\n",
       "The \"Date\" column in the `earthquakes` DataFrame does have dates.  The dtype is \"object\"."
      ]
     },
     "metadata": {},
     "output_type": "display_data"
    }
   ],
   "source": [
    "# Check your answer (Run this code cell to receive credit!)\n",
    "q1.check()"
   ]
  },
  {
   "cell_type": "code",
   "execution_count": 5,
   "id": "df09d266",
   "metadata": {
    "execution": {
     "iopub.execute_input": "2022-07-19T02:02:32.630356Z",
     "iopub.status.busy": "2022-07-19T02:02:32.629886Z",
     "iopub.status.idle": "2022-07-19T02:02:32.634877Z",
     "shell.execute_reply": "2022-07-19T02:02:32.633866Z"
    },
    "papermill": {
     "duration": 0.019088,
     "end_time": "2022-07-19T02:02:32.638265",
     "exception": false,
     "start_time": "2022-07-19T02:02:32.619177",
     "status": "completed"
    },
    "tags": []
   },
   "outputs": [],
   "source": [
    "# Line below will give you a hint\n",
    "#q1.hint()"
   ]
  },
  {
   "cell_type": "markdown",
   "id": "51b74a60",
   "metadata": {
    "papermill": {
     "duration": 0.010405,
     "end_time": "2022-07-19T02:02:32.657989",
     "exception": false,
     "start_time": "2022-07-19T02:02:32.647584",
     "status": "completed"
    },
    "tags": []
   },
   "source": [
    "# 2) Convert our date columns to datetime\n",
    "\n",
    "Most of the entries in the \"Date\" column follow the same format: \"month/day/four-digit year\".  However, the entry at index 3378 follows a completely different pattern.  Run the code cell below to see this."
   ]
  },
  {
   "cell_type": "code",
   "execution_count": 6,
   "id": "9ec7ee58",
   "metadata": {
    "execution": {
     "iopub.execute_input": "2022-07-19T02:02:32.680106Z",
     "iopub.status.busy": "2022-07-19T02:02:32.679644Z",
     "iopub.status.idle": "2022-07-19T02:02:32.720474Z",
     "shell.execute_reply": "2022-07-19T02:02:32.719566Z"
    },
    "papermill": {
     "duration": 0.054563,
     "end_time": "2022-07-19T02:02:32.723274",
     "exception": false,
     "start_time": "2022-07-19T02:02:32.668711",
     "status": "completed"
    },
    "tags": []
   },
   "outputs": [
    {
     "data": {
      "text/html": [
       "<div>\n",
       "<style scoped>\n",
       "    .dataframe tbody tr th:only-of-type {\n",
       "        vertical-align: middle;\n",
       "    }\n",
       "\n",
       "    .dataframe tbody tr th {\n",
       "        vertical-align: top;\n",
       "    }\n",
       "\n",
       "    .dataframe thead th {\n",
       "        text-align: right;\n",
       "    }\n",
       "</style>\n",
       "<table border=\"1\" class=\"dataframe\">\n",
       "  <thead>\n",
       "    <tr style=\"text-align: right;\">\n",
       "      <th></th>\n",
       "      <th>Date</th>\n",
       "      <th>Time</th>\n",
       "      <th>Latitude</th>\n",
       "      <th>Longitude</th>\n",
       "      <th>Type</th>\n",
       "      <th>Depth</th>\n",
       "      <th>Depth Error</th>\n",
       "      <th>Depth Seismic Stations</th>\n",
       "      <th>Magnitude</th>\n",
       "      <th>Magnitude Type</th>\n",
       "      <th>...</th>\n",
       "      <th>Magnitude Seismic Stations</th>\n",
       "      <th>Azimuthal Gap</th>\n",
       "      <th>Horizontal Distance</th>\n",
       "      <th>Horizontal Error</th>\n",
       "      <th>Root Mean Square</th>\n",
       "      <th>ID</th>\n",
       "      <th>Source</th>\n",
       "      <th>Location Source</th>\n",
       "      <th>Magnitude Source</th>\n",
       "      <th>Status</th>\n",
       "    </tr>\n",
       "  </thead>\n",
       "  <tbody>\n",
       "    <tr>\n",
       "      <th>3378</th>\n",
       "      <td>1975-02-23T02:58:41.000Z</td>\n",
       "      <td>1975-02-23T02:58:41.000Z</td>\n",
       "      <td>8.017</td>\n",
       "      <td>124.075</td>\n",
       "      <td>Earthquake</td>\n",
       "      <td>623.0</td>\n",
       "      <td>NaN</td>\n",
       "      <td>NaN</td>\n",
       "      <td>5.6</td>\n",
       "      <td>MB</td>\n",
       "      <td>...</td>\n",
       "      <td>NaN</td>\n",
       "      <td>NaN</td>\n",
       "      <td>NaN</td>\n",
       "      <td>NaN</td>\n",
       "      <td>NaN</td>\n",
       "      <td>USP0000A09</td>\n",
       "      <td>US</td>\n",
       "      <td>US</td>\n",
       "      <td>US</td>\n",
       "      <td>Reviewed</td>\n",
       "    </tr>\n",
       "    <tr>\n",
       "      <th>3379</th>\n",
       "      <td>02/23/1975</td>\n",
       "      <td>03:53:36</td>\n",
       "      <td>-21.727</td>\n",
       "      <td>-71.356</td>\n",
       "      <td>Earthquake</td>\n",
       "      <td>33.0</td>\n",
       "      <td>NaN</td>\n",
       "      <td>NaN</td>\n",
       "      <td>5.6</td>\n",
       "      <td>MB</td>\n",
       "      <td>...</td>\n",
       "      <td>NaN</td>\n",
       "      <td>NaN</td>\n",
       "      <td>NaN</td>\n",
       "      <td>NaN</td>\n",
       "      <td>NaN</td>\n",
       "      <td>USP0000A0A</td>\n",
       "      <td>US</td>\n",
       "      <td>US</td>\n",
       "      <td>US</td>\n",
       "      <td>Reviewed</td>\n",
       "    </tr>\n",
       "    <tr>\n",
       "      <th>3380</th>\n",
       "      <td>02/23/1975</td>\n",
       "      <td>07:34:11</td>\n",
       "      <td>-10.879</td>\n",
       "      <td>166.667</td>\n",
       "      <td>Earthquake</td>\n",
       "      <td>33.0</td>\n",
       "      <td>NaN</td>\n",
       "      <td>NaN</td>\n",
       "      <td>5.5</td>\n",
       "      <td>MS</td>\n",
       "      <td>...</td>\n",
       "      <td>NaN</td>\n",
       "      <td>NaN</td>\n",
       "      <td>NaN</td>\n",
       "      <td>NaN</td>\n",
       "      <td>NaN</td>\n",
       "      <td>USP0000A0C</td>\n",
       "      <td>US</td>\n",
       "      <td>US</td>\n",
       "      <td>US</td>\n",
       "      <td>Reviewed</td>\n",
       "    </tr>\n",
       "    <tr>\n",
       "      <th>3381</th>\n",
       "      <td>02/25/1975</td>\n",
       "      <td>05:20:05</td>\n",
       "      <td>-7.388</td>\n",
       "      <td>149.798</td>\n",
       "      <td>Earthquake</td>\n",
       "      <td>33.0</td>\n",
       "      <td>NaN</td>\n",
       "      <td>NaN</td>\n",
       "      <td>5.5</td>\n",
       "      <td>MB</td>\n",
       "      <td>...</td>\n",
       "      <td>NaN</td>\n",
       "      <td>NaN</td>\n",
       "      <td>NaN</td>\n",
       "      <td>NaN</td>\n",
       "      <td>NaN</td>\n",
       "      <td>USP0000A12</td>\n",
       "      <td>US</td>\n",
       "      <td>US</td>\n",
       "      <td>US</td>\n",
       "      <td>Reviewed</td>\n",
       "    </tr>\n",
       "    <tr>\n",
       "      <th>3382</th>\n",
       "      <td>02/26/1975</td>\n",
       "      <td>04:48:55</td>\n",
       "      <td>85.047</td>\n",
       "      <td>97.969</td>\n",
       "      <td>Earthquake</td>\n",
       "      <td>33.0</td>\n",
       "      <td>NaN</td>\n",
       "      <td>NaN</td>\n",
       "      <td>5.6</td>\n",
       "      <td>MS</td>\n",
       "      <td>...</td>\n",
       "      <td>NaN</td>\n",
       "      <td>NaN</td>\n",
       "      <td>NaN</td>\n",
       "      <td>NaN</td>\n",
       "      <td>NaN</td>\n",
       "      <td>USP0000A1H</td>\n",
       "      <td>US</td>\n",
       "      <td>US</td>\n",
       "      <td>US</td>\n",
       "      <td>Reviewed</td>\n",
       "    </tr>\n",
       "  </tbody>\n",
       "</table>\n",
       "<p>5 rows × 21 columns</p>\n",
       "</div>"
      ],
      "text/plain": [
       "                          Date                      Time  Latitude  Longitude  \\\n",
       "3378  1975-02-23T02:58:41.000Z  1975-02-23T02:58:41.000Z     8.017    124.075   \n",
       "3379                02/23/1975                  03:53:36   -21.727    -71.356   \n",
       "3380                02/23/1975                  07:34:11   -10.879    166.667   \n",
       "3381                02/25/1975                  05:20:05    -7.388    149.798   \n",
       "3382                02/26/1975                  04:48:55    85.047     97.969   \n",
       "\n",
       "            Type  Depth  Depth Error  Depth Seismic Stations  Magnitude  \\\n",
       "3378  Earthquake  623.0          NaN                     NaN        5.6   \n",
       "3379  Earthquake   33.0          NaN                     NaN        5.6   \n",
       "3380  Earthquake   33.0          NaN                     NaN        5.5   \n",
       "3381  Earthquake   33.0          NaN                     NaN        5.5   \n",
       "3382  Earthquake   33.0          NaN                     NaN        5.6   \n",
       "\n",
       "     Magnitude Type  ...  Magnitude Seismic Stations  Azimuthal Gap  \\\n",
       "3378             MB  ...                         NaN            NaN   \n",
       "3379             MB  ...                         NaN            NaN   \n",
       "3380             MS  ...                         NaN            NaN   \n",
       "3381             MB  ...                         NaN            NaN   \n",
       "3382             MS  ...                         NaN            NaN   \n",
       "\n",
       "      Horizontal Distance  Horizontal Error  Root Mean Square          ID  \\\n",
       "3378                  NaN               NaN               NaN  USP0000A09   \n",
       "3379                  NaN               NaN               NaN  USP0000A0A   \n",
       "3380                  NaN               NaN               NaN  USP0000A0C   \n",
       "3381                  NaN               NaN               NaN  USP0000A12   \n",
       "3382                  NaN               NaN               NaN  USP0000A1H   \n",
       "\n",
       "     Source Location Source Magnitude Source    Status  \n",
       "3378     US              US               US  Reviewed  \n",
       "3379     US              US               US  Reviewed  \n",
       "3380     US              US               US  Reviewed  \n",
       "3381     US              US               US  Reviewed  \n",
       "3382     US              US               US  Reviewed  \n",
       "\n",
       "[5 rows x 21 columns]"
      ]
     },
     "execution_count": 6,
     "metadata": {},
     "output_type": "execute_result"
    }
   ],
   "source": [
    "earthquakes[3378:3383]"
   ]
  },
  {
   "cell_type": "markdown",
   "id": "36132a32",
   "metadata": {
    "papermill": {
     "duration": 0.009262,
     "end_time": "2022-07-19T02:02:32.743291",
     "exception": false,
     "start_time": "2022-07-19T02:02:32.734029",
     "status": "completed"
    },
    "tags": []
   },
   "source": [
    "This does appear to be an issue with data entry: ideally, all entries in the column have the same format.  We can get an idea of how widespread this issue is by checking the length of each entry in the \"Date\" column."
   ]
  },
  {
   "cell_type": "code",
   "execution_count": 7,
   "id": "3e25a4f1",
   "metadata": {
    "execution": {
     "iopub.execute_input": "2022-07-19T02:02:32.764853Z",
     "iopub.status.busy": "2022-07-19T02:02:32.764145Z",
     "iopub.status.idle": "2022-07-19T02:02:32.793556Z",
     "shell.execute_reply": "2022-07-19T02:02:32.791709Z"
    },
    "papermill": {
     "duration": 0.043868,
     "end_time": "2022-07-19T02:02:32.796470",
     "exception": false,
     "start_time": "2022-07-19T02:02:32.752602",
     "status": "completed"
    },
    "tags": []
   },
   "outputs": [
    {
     "data": {
      "text/plain": [
       "10    23409\n",
       "24        3\n",
       "Name: Date, dtype: int64"
      ]
     },
     "execution_count": 7,
     "metadata": {},
     "output_type": "execute_result"
    }
   ],
   "source": [
    "date_lengths = earthquakes.Date.str.len()\n",
    "date_lengths.value_counts()"
   ]
  },
  {
   "cell_type": "markdown",
   "id": "00c57263",
   "metadata": {
    "papermill": {
     "duration": 0.009643,
     "end_time": "2022-07-19T02:02:32.815994",
     "exception": false,
     "start_time": "2022-07-19T02:02:32.806351",
     "status": "completed"
    },
    "tags": []
   },
   "source": []
  },
  {
   "cell_type": "markdown",
   "id": "15b9bc19",
   "metadata": {
    "papermill": {
     "duration": 0.009443,
     "end_time": "2022-07-19T02:02:32.834891",
     "exception": false,
     "start_time": "2022-07-19T02:02:32.825448",
     "status": "completed"
    },
    "tags": []
   },
   "source": [
    "Looks like there are two more rows that has a date in a different format.  Run the code cell below to obtain the indices corresponding to those rows and print the data."
   ]
  },
  {
   "cell_type": "code",
   "execution_count": 8,
   "id": "84a06710",
   "metadata": {
    "execution": {
     "iopub.execute_input": "2022-07-19T02:02:32.856348Z",
     "iopub.status.busy": "2022-07-19T02:02:32.855269Z",
     "iopub.status.idle": "2022-07-19T02:02:32.864144Z",
     "shell.execute_reply": "2022-07-19T02:02:32.862418Z"
    },
    "papermill": {
     "duration": 0.022489,
     "end_time": "2022-07-19T02:02:32.866953",
     "exception": false,
     "start_time": "2022-07-19T02:02:32.844464",
     "status": "completed"
    },
    "tags": []
   },
   "outputs": [
    {
     "name": "stdout",
     "output_type": "stream",
     "text": [
      "Indices with corrupted data: [ 3378  7512 20650]\n"
     ]
    }
   ],
   "source": [
    "indices = np.where([date_lengths == 24])[1]\n",
    "\n",
    "print('Indices with corrupted data:', indices)\n",
    "#earthquakes.loc[indices]\n",
    "#earthquakes.loc[indices,'Date']"
   ]
  },
  {
   "cell_type": "markdown",
   "id": "eeef69dd",
   "metadata": {
    "papermill": {
     "duration": 0.009165,
     "end_time": "2022-07-19T02:02:32.886408",
     "exception": false,
     "start_time": "2022-07-19T02:02:32.877243",
     "status": "completed"
    },
    "tags": []
   },
   "source": [
    "Given all of this information, it's your turn to create a new column \"date_parsed\" in the `earthquakes` dataset that has correctly parsed dates in it.  \n",
    "\n",
    "**Note**: When completing this problem, you are allowed to (but are not required to) amend the entries in the \"Date\" and \"Time\" columns.  Do not remove any rows from the dataset."
   ]
  },
  {
   "cell_type": "code",
   "execution_count": 9,
   "id": "20b517d9",
   "metadata": {
    "execution": {
     "iopub.execute_input": "2022-07-19T02:02:32.909095Z",
     "iopub.status.busy": "2022-07-19T02:02:32.907913Z",
     "iopub.status.idle": "2022-07-19T02:02:32.953594Z",
     "shell.execute_reply": "2022-07-19T02:02:32.952202Z"
    },
    "papermill": {
     "duration": 0.058994,
     "end_time": "2022-07-19T02:02:32.956027",
     "exception": false,
     "start_time": "2022-07-19T02:02:32.897033",
     "status": "completed"
    },
    "tags": []
   },
   "outputs": [
    {
     "data": {
      "application/javascript": [
       "parent.postMessage({\"jupyterEvent\": \"custom.exercise_interaction\", \"data\": {\"outcomeType\": 1, \"valueTowardsCompletion\": 0.25, \"interactionType\": 1, \"questionType\": 2, \"questionId\": \"2_ConvertToDatetime\", \"learnToolsVersion\": \"0.3.4\", \"failureMessage\": \"\", \"exceptionClass\": \"\", \"trace\": \"\"}}, \"*\")"
      ],
      "text/plain": [
       "<IPython.core.display.Javascript object>"
      ]
     },
     "metadata": {},
     "output_type": "display_data"
    },
    {
     "data": {
      "text/markdown": [
       "<span style=\"color:#33cc33\">Correct</span>"
      ],
      "text/plain": [
       "Correct"
      ]
     },
     "metadata": {},
     "output_type": "display_data"
    }
   ],
   "source": [
    "# TODO: Your code here\n",
    "date_format = '%m/%d/%Y'\n",
    "earthquakes.loc[indices,'Date'] = pd.to_datetime(earthquakes.loc[indices,'Date']).dt.strftime(date_format)\n",
    "earthquakes['date_parsed'] = pd.to_datetime(earthquakes['Date'])\n",
    "# Check your answer\n",
    "# Check your answer\n",
    "q2.check()"
   ]
  },
  {
   "cell_type": "code",
   "execution_count": 10,
   "id": "d0725eda",
   "metadata": {
    "execution": {
     "iopub.execute_input": "2022-07-19T02:02:32.977679Z",
     "iopub.status.busy": "2022-07-19T02:02:32.976698Z",
     "iopub.status.idle": "2022-07-19T02:02:32.987401Z",
     "shell.execute_reply": "2022-07-19T02:02:32.985853Z"
    },
    "papermill": {
     "duration": 0.02447,
     "end_time": "2022-07-19T02:02:32.990127",
     "exception": false,
     "start_time": "2022-07-19T02:02:32.965657",
     "status": "completed"
    },
    "tags": []
   },
   "outputs": [
    {
     "data": {
      "text/plain": [
       "0       1965-01-02\n",
       "1       1965-01-04\n",
       "2       1965-01-05\n",
       "3       1965-01-08\n",
       "4       1965-01-09\n",
       "           ...    \n",
       "23407   2016-12-28\n",
       "23408   2016-12-28\n",
       "23409   2016-12-28\n",
       "23410   2016-12-29\n",
       "23411   2016-12-30\n",
       "Name: date_parsed, Length: 23412, dtype: datetime64[ns]"
      ]
     },
     "execution_count": 10,
     "metadata": {},
     "output_type": "execute_result"
    }
   ],
   "source": [
    "earthquakes['date_parsed']"
   ]
  },
  {
   "cell_type": "code",
   "execution_count": 11,
   "id": "fbae2f17",
   "metadata": {
    "execution": {
     "iopub.execute_input": "2022-07-19T02:02:33.012766Z",
     "iopub.status.busy": "2022-07-19T02:02:33.012367Z",
     "iopub.status.idle": "2022-07-19T02:02:33.017916Z",
     "shell.execute_reply": "2022-07-19T02:02:33.016482Z"
    },
    "papermill": {
     "duration": 0.02004,
     "end_time": "2022-07-19T02:02:33.020759",
     "exception": false,
     "start_time": "2022-07-19T02:02:33.000719",
     "status": "completed"
    },
    "tags": []
   },
   "outputs": [],
   "source": [
    "# Lines below will give you a hint or solution code\n",
    "#q2.hint()\n",
    "#q2.solution()"
   ]
  },
  {
   "cell_type": "markdown",
   "id": "2656aac9",
   "metadata": {
    "papermill": {
     "duration": 0.009879,
     "end_time": "2022-07-19T02:02:33.041649",
     "exception": false,
     "start_time": "2022-07-19T02:02:33.031770",
     "status": "completed"
    },
    "tags": []
   },
   "source": [
    "# 3) Select the day of the month\n",
    "\n",
    "Create a Pandas Series `day_of_month_earthquakes` containing the day of the month from the \"date_parsed\" column."
   ]
  },
  {
   "cell_type": "code",
   "execution_count": 12,
   "id": "9d27d70a",
   "metadata": {
    "execution": {
     "iopub.execute_input": "2022-07-19T02:02:33.065405Z",
     "iopub.status.busy": "2022-07-19T02:02:33.064968Z",
     "iopub.status.idle": "2022-07-19T02:02:33.078038Z",
     "shell.execute_reply": "2022-07-19T02:02:33.077106Z"
    },
    "papermill": {
     "duration": 0.028596,
     "end_time": "2022-07-19T02:02:33.080762",
     "exception": false,
     "start_time": "2022-07-19T02:02:33.052166",
     "status": "completed"
    },
    "tags": []
   },
   "outputs": [
    {
     "data": {
      "application/javascript": [
       "parent.postMessage({\"jupyterEvent\": \"custom.exercise_interaction\", \"data\": {\"outcomeType\": 1, \"valueTowardsCompletion\": 0.25, \"interactionType\": 1, \"questionType\": 1, \"questionId\": \"3_DayOfMonth\", \"learnToolsVersion\": \"0.3.4\", \"failureMessage\": \"\", \"exceptionClass\": \"\", \"trace\": \"\"}}, \"*\")"
      ],
      "text/plain": [
       "<IPython.core.display.Javascript object>"
      ]
     },
     "metadata": {},
     "output_type": "display_data"
    },
    {
     "data": {
      "text/markdown": [
       "<span style=\"color:#33cc33\">Correct</span>"
      ],
      "text/plain": [
       "Correct"
      ]
     },
     "metadata": {},
     "output_type": "display_data"
    }
   ],
   "source": [
    "# try to get the day of the month from the date column\n",
    "day_of_month_earthquakes = earthquakes['date_parsed'].dt.day\n",
    "\n",
    "# Check your answer\n",
    "q3.check()"
   ]
  },
  {
   "cell_type": "code",
   "execution_count": 13,
   "id": "c19a8cbf",
   "metadata": {
    "execution": {
     "iopub.execute_input": "2022-07-19T02:02:33.106781Z",
     "iopub.status.busy": "2022-07-19T02:02:33.106382Z",
     "iopub.status.idle": "2022-07-19T02:02:33.110631Z",
     "shell.execute_reply": "2022-07-19T02:02:33.109684Z"
    },
    "papermill": {
     "duration": 0.020828,
     "end_time": "2022-07-19T02:02:33.113551",
     "exception": false,
     "start_time": "2022-07-19T02:02:33.092723",
     "status": "completed"
    },
    "tags": []
   },
   "outputs": [],
   "source": [
    "# Lines below will give you a hint or solution code\n",
    "#q3.hint()\n",
    "#q3.solution()"
   ]
  },
  {
   "cell_type": "markdown",
   "id": "8fa6078f",
   "metadata": {
    "papermill": {
     "duration": 0.011306,
     "end_time": "2022-07-19T02:02:33.136370",
     "exception": false,
     "start_time": "2022-07-19T02:02:33.125064",
     "status": "completed"
    },
    "tags": []
   },
   "source": [
    "# 4) Plot the day of the month to check the date parsing\n",
    "\n",
    "Plot the days of the month from your earthquake dataset."
   ]
  },
  {
   "cell_type": "code",
   "execution_count": 14,
   "id": "993633d2",
   "metadata": {
    "execution": {
     "iopub.execute_input": "2022-07-19T02:02:33.160046Z",
     "iopub.status.busy": "2022-07-19T02:02:33.159228Z",
     "iopub.status.idle": "2022-07-19T02:02:33.433553Z",
     "shell.execute_reply": "2022-07-19T02:02:33.432261Z"
    },
    "papermill": {
     "duration": 0.288967,
     "end_time": "2022-07-19T02:02:33.435994",
     "exception": false,
     "start_time": "2022-07-19T02:02:33.147027",
     "status": "completed"
    },
    "tags": []
   },
   "outputs": [
    {
     "data": {
      "text/plain": [
       "<AxesSubplot:xlabel='date_parsed', ylabel='Count'>"
      ]
     },
     "execution_count": 14,
     "metadata": {},
     "output_type": "execute_result"
    },
    {
     "data": {
      "image/png": "[encoded data removed]",
      "text/plain": [
       "<Figure size 432x288 with 1 Axes>"
      ]
     },
     "metadata": {
      "needs_background": "light"
     },
     "output_type": "display_data"
    }
   ],
   "source": [
    "# TODO: Your code here!\n",
    "sns.histplot(day_of_month_earthquakes,kde=False,bins=31)"
   ]
  },
  {
   "cell_type": "markdown",
   "id": "da84fe89",
   "metadata": {
    "papermill": {
     "duration": 0.011141,
     "end_time": "2022-07-19T02:02:33.457548",
     "exception": false,
     "start_time": "2022-07-19T02:02:33.446407",
     "status": "completed"
    },
    "tags": []
   },
   "source": [
    "Does the graph make sense to you?"
   ]
  },
  {
   "cell_type": "code",
   "execution_count": 15,
   "id": "83e0240c",
   "metadata": {
    "execution": {
     "iopub.execute_input": "2022-07-19T02:02:33.480525Z",
     "iopub.status.busy": "2022-07-19T02:02:33.480095Z",
     "iopub.status.idle": "2022-07-19T02:02:33.488632Z",
     "shell.execute_reply": "2022-07-19T02:02:33.487434Z"
    },
    "papermill": {
     "duration": 0.022799,
     "end_time": "2022-07-19T02:02:33.490936",
     "exception": false,
     "start_time": "2022-07-19T02:02:33.468137",
     "status": "completed"
    },
    "tags": []
   },
   "outputs": [
    {
     "data": {
      "application/javascript": [
       "parent.postMessage({\"jupyterEvent\": \"custom.exercise_interaction\", \"data\": {\"outcomeType\": 1, \"valueTowardsCompletion\": 0.25, \"interactionType\": 1, \"questionType\": 4, \"questionId\": \"4_PlotDayOfMonth\", \"learnToolsVersion\": \"0.3.4\", \"failureMessage\": \"\", \"exceptionClass\": \"\", \"trace\": \"\"}}, \"*\")"
      ],
      "text/plain": [
       "<IPython.core.display.Javascript object>"
      ]
     },
     "metadata": {},
     "output_type": "display_data"
    },
    {
     "data": {
      "text/markdown": [
       "<span style=\"color:#33cc33\">Correct:</span> \n",
       "\n",
       "The graph should make sense: it shows a relatively even distribution in days of the month,which is what we would expect."
      ],
      "text/plain": [
       "Correct: \n",
       "\n",
       "The graph should make sense: it shows a relatively even distribution in days of the month,which is what we would expect."
      ]
     },
     "metadata": {},
     "output_type": "display_data"
    }
   ],
   "source": [
    "# Check your answer (Run this code cell to receive credit!)\n",
    "q4.check()"
   ]
  },
  {
   "cell_type": "code",
   "execution_count": 16,
   "id": "b351b870",
   "metadata": {
    "execution": {
     "iopub.execute_input": "2022-07-19T02:02:33.515440Z",
     "iopub.status.busy": "2022-07-19T02:02:33.514701Z",
     "iopub.status.idle": "2022-07-19T02:02:33.519174Z",
     "shell.execute_reply": "2022-07-19T02:02:33.518201Z"
    },
    "papermill": {
     "duration": 0.019355,
     "end_time": "2022-07-19T02:02:33.521791",
     "exception": false,
     "start_time": "2022-07-19T02:02:33.502436",
     "status": "completed"
    },
    "tags": []
   },
   "outputs": [],
   "source": [
    "# Line below will give you a hint\n",
    "#q4.hint()"
   ]
  },
  {
   "cell_type": "markdown",
   "id": "fdd53c3e",
   "metadata": {
    "papermill": {
     "duration": 0.011869,
     "end_time": "2022-07-19T02:02:33.546185",
     "exception": false,
     "start_time": "2022-07-19T02:02:33.534316",
     "status": "completed"
    },
    "tags": []
   },
   "source": [
    "# (Optional) Bonus Challenge\n",
    "\n",
    "For an extra challenge, you'll work with a [Smithsonian dataset](https://www.kaggle.com/smithsonian/volcanic-eruptions) that documents Earth's volcanoes and their eruptive history over the past 10,000 years \n",
    "\n",
    "Run the next code cell to load the data."
   ]
  },
  {
   "cell_type": "code",
   "execution_count": 17,
   "id": "8f612cc8",
   "metadata": {
    "collapsed": true,
    "execution": {
     "iopub.execute_input": "2022-07-19T02:02:33.569987Z",
     "iopub.status.busy": "2022-07-19T02:02:33.569551Z",
     "iopub.status.idle": "2022-07-19T02:02:33.600843Z",
     "shell.execute_reply": "2022-07-19T02:02:33.599899Z"
    },
    "jupyter": {
     "outputs_hidden": true
    },
    "papermill": {
     "duration": 0.047171,
     "end_time": "2022-07-19T02:02:33.604406",
     "exception": false,
     "start_time": "2022-07-19T02:02:33.557235",
     "status": "completed"
    },
    "tags": []
   },
   "outputs": [],
   "source": [
    "volcanos = pd.read_csv(\"../input/volcanic-eruptions/database.csv\")"
   ]
  },
  {
   "cell_type": "markdown",
   "id": "fcd9bb5a",
   "metadata": {
    "papermill": {
     "duration": 0.010679,
     "end_time": "2022-07-19T02:02:33.627006",
     "exception": false,
     "start_time": "2022-07-19T02:02:33.616327",
     "status": "completed"
    },
    "tags": []
   },
   "source": [
    "Try parsing the column \"Last Known Eruption\" from the `volcanos` dataframe. This column contains a mixture of text (\"Unknown\") and years both before the common era (BCE, also known as BC) and in the common era (CE, also known as AD)."
   ]
  },
  {
   "cell_type": "code",
   "execution_count": 18,
   "id": "3f4807f6",
   "metadata": {
    "execution": {
     "iopub.execute_input": "2022-07-19T02:02:33.659493Z",
     "iopub.status.busy": "2022-07-19T02:02:33.657780Z",
     "iopub.status.idle": "2022-07-19T02:02:33.670416Z",
     "shell.execute_reply": "2022-07-19T02:02:33.668985Z"
    },
    "papermill": {
     "duration": 0.0314,
     "end_time": "2022-07-19T02:02:33.673247",
     "exception": false,
     "start_time": "2022-07-19T02:02:33.641847",
     "status": "completed"
    },
    "tags": []
   },
   "outputs": [
    {
     "data": {
      "text/plain": [
       "764     Unknown\n",
       "1069    1996 CE\n",
       "34      1855 CE\n",
       "489     2016 CE\n",
       "9       1302 CE\n",
       "Name: Last Known Eruption, dtype: object"
      ]
     },
     "execution_count": 18,
     "metadata": {},
     "output_type": "execute_result"
    }
   ],
   "source": [
    "volcanos['Last Known Eruption'].sample(5)"
   ]
  },
  {
   "cell_type": "markdown",
   "id": "81a8a598",
   "metadata": {
    "papermill": {
     "duration": 0.012596,
     "end_time": "2022-07-19T02:02:33.698845",
     "exception": false,
     "start_time": "2022-07-19T02:02:33.686249",
     "status": "completed"
    },
    "tags": []
   },
   "source": [
    "# (Optional) More practice\n",
    "\n",
    "If you're interested in graphing time series, [check out this tutorial](https://www.kaggle.com/residentmario/time-series-plotting-optional).\n",
    "\n",
    "You can also look into passing columns that you know have dates in them  the `parse_dates` argument in `read_csv`. (The documention [is here](https://pandas.pydata.org/pandas-docs/stable/generated/pandas.read_csv.html).) Do note that this method can be very slow, but depending on your needs it may sometimes be handy to use.\n",
    "\n",
    "# Keep going\n",
    "\n",
    "In the next lesson, learn how to [**work with character encodings**](https://www.kaggle.com/alexisbcook/character-encodings)."
   ]
  },
  {
   "cell_type": "markdown",
   "id": "12df4cdf",
   "metadata": {
    "papermill": {
     "duration": 0.011547,
     "end_time": "2022-07-19T02:02:33.726780",
     "exception": false,
     "start_time": "2022-07-19T02:02:33.715233",
     "status": "completed"
    },
    "tags": []
   },
   "source": [
    "---\n",
    "\n",
    "\n",
    "\n",
    "\n",
    "*Have questions or comments? Visit the [course discussion forum](https://www.kaggle.com/learn/data-cleaning/discussion) to chat with other learners.*"
   ]
  }
 ],
 "metadata": {
  "kernelspec": {
   "display_name": "Python 3",
   "language": "python",
   "name": "python3"
  },
  "language_info": {
   "codemirror_mode": {
    "name": "ipython",
    "version": 3
   },
   "file_extension": ".py",
   "mimetype": "text/x-python",
   "name": "python",
   "nbconvert_exporter": "python",
   "pygments_lexer": "ipython3",
   "version": "3.7.12"
  },
  "papermill": {
   "default_parameters": {},
   "duration": 15.809884,
   "end_time": "2022-07-19T02:02:34.664226",
   "environment_variables": {},
   "exception": null,
   "input_path": "__notebook__.ipynb",
   "output_path": "__notebook__.ipynb",
   "parameters": {},
   "start_time": "2022-07-19T02:02:18.854342",
   "version": "2.3.4"
  }
 },
 "nbformat": 4,
 "nbformat_minor": 5
}
