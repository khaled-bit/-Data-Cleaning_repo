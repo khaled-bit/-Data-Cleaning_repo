{
 "cells": [
  {
   "cell_type": "markdown",
   "id": "dc53a020",
   "metadata": {
    "papermill": {
     "duration": 0.006043,
     "end_time": "2022-07-19T01:13:00.796886",
     "exception": false,
     "start_time": "2022-07-19T01:13:00.790843",
     "status": "completed"
    },
    "tags": []
   },
   "source": [
    "**This notebook is an exercise in the [Data Cleaning](https://www.kaggle.com/learn/data-cleaning) course.  You can reference the tutorial at [this link](https://www.kaggle.com/alexisbcook/handling-missing-values).**\n",
    "\n",
    "---\n"
   ]
  },
  {
   "cell_type": "markdown",
   "id": "47d3c467",
   "metadata": {
    "papermill": {
     "duration": 0.004782,
     "end_time": "2022-07-19T01:13:00.807008",
     "exception": false,
     "start_time": "2022-07-19T01:13:00.802226",
     "status": "completed"
    },
    "tags": []
   },
   "source": [
    "In this exercise, you'll apply what you learned in the **Handling missing values** tutorial.\n",
    "\n",
    "# Setup\n",
    "\n",
    "The questions below will give you feedback on your work. Run the following cell to set up the feedback system."
   ]
  },
  {
   "cell_type": "code",
   "execution_count": 1,
   "id": "f752fd4b",
   "metadata": {
    "execution": {
     "iopub.execute_input": "2022-07-19T01:13:00.818941Z",
     "iopub.status.busy": "2022-07-19T01:13:00.818501Z",
     "iopub.status.idle": "2022-07-19T01:13:04.631951Z",
     "shell.execute_reply": "2022-07-19T01:13:04.630635Z"
    },
    "papermill": {
     "duration": 3.823551,
     "end_time": "2022-07-19T01:13:04.635594",
     "exception": false,
     "start_time": "2022-07-19T01:13:00.812043",
     "status": "completed"
    },
    "tags": []
   },
   "outputs": [
    {
     "name": "stderr",
     "output_type": "stream",
     "text": [
      "/opt/conda/lib/python3.7/site-packages/ipykernel_launcher.py:3: DtypeWarning: Columns (22,32) have mixed types.Specify dtype option on import or set low_memory=False.\n",
      "  This is separate from the ipykernel package so we can avoid doing imports until\n"
     ]
    },
    {
     "name": "stdout",
     "output_type": "stream",
     "text": [
      "Setup Complete\n"
     ]
    }
   ],
   "source": [
    "from learntools.core import binder\n",
    "binder.bind(globals())\n",
    "from learntools.data_cleaning.ex1 import *\n",
    "print(\"Setup Complete\")"
   ]
  },
  {
   "cell_type": "markdown",
   "id": "d99f55f8",
   "metadata": {
    "papermill": {
     "duration": 0.004992,
     "end_time": "2022-07-19T01:13:04.646592",
     "exception": false,
     "start_time": "2022-07-19T01:13:04.641600",
     "status": "completed"
    },
    "tags": []
   },
   "source": [
    "# 1) Take a first look at the data\n",
    "\n",
    "Run the next code cell to load in the libraries and dataset you'll use to complete the exercise."
   ]
  },
  {
   "cell_type": "code",
   "execution_count": 2,
   "id": "bb743143",
   "metadata": {
    "execution": {
     "iopub.execute_input": "2022-07-19T01:13:04.658615Z",
     "iopub.status.busy": "2022-07-19T01:13:04.658216Z",
     "iopub.status.idle": "2022-07-19T01:13:06.271962Z",
     "shell.execute_reply": "2022-07-19T01:13:06.270881Z"
    },
    "papermill": {
     "duration": 1.622714,
     "end_time": "2022-07-19T01:13:06.274466",
     "exception": false,
     "start_time": "2022-07-19T01:13:04.651752",
     "status": "completed"
    },
    "tags": []
   },
   "outputs": [
    {
     "name": "stderr",
     "output_type": "stream",
     "text": [
      "/opt/conda/lib/python3.7/site-packages/IPython/core/interactiveshell.py:3552: DtypeWarning: Columns (22,32) have mixed types.Specify dtype option on import or set low_memory=False.\n",
      "  exec(code_obj, self.user_global_ns, self.user_ns)\n"
     ]
    }
   ],
   "source": [
    "# modules we'll use\n",
    "import pandas as pd\n",
    "import numpy as np\n",
    "\n",
    "# read in all our data\n",
    "sf_permits = pd.read_csv(\"../input/building-permit-applications-data/Building_Permits.csv\")\n",
    "\n",
    "# set seed for reproducibility\n",
    "np.random.seed(0) "
   ]
  },
  {
   "cell_type": "markdown",
   "id": "9bdf45fc",
   "metadata": {
    "papermill": {
     "duration": 0.005536,
     "end_time": "2022-07-19T01:13:06.285444",
     "exception": false,
     "start_time": "2022-07-19T01:13:06.279908",
     "status": "completed"
    },
    "tags": []
   },
   "source": [
    "Use the code cell below to print the first five rows of the `sf_permits` DataFrame."
   ]
  },
  {
   "cell_type": "code",
   "execution_count": 3,
   "id": "3f15eaff",
   "metadata": {
    "execution": {
     "iopub.execute_input": "2022-07-19T01:13:06.297775Z",
     "iopub.status.busy": "2022-07-19T01:13:06.297388Z",
     "iopub.status.idle": "2022-07-19T01:13:06.332123Z",
     "shell.execute_reply": "2022-07-19T01:13:06.330953Z"
    },
    "papermill": {
     "duration": 0.043685,
     "end_time": "2022-07-19T01:13:06.334602",
     "exception": false,
     "start_time": "2022-07-19T01:13:06.290917",
     "status": "completed"
    },
    "tags": []
   },
   "outputs": [
    {
     "data": {
      "text/html": [
       "<div>\n",
       "<style scoped>\n",
       "    .dataframe tbody tr th:only-of-type {\n",
       "        vertical-align: middle;\n",
       "    }\n",
       "\n",
       "    .dataframe tbody tr th {\n",
       "        vertical-align: top;\n",
       "    }\n",
       "\n",
       "    .dataframe thead th {\n",
       "        text-align: right;\n",
       "    }\n",
       "</style>\n",
       "<table border=\"1\" class=\"dataframe\">\n",
       "  <thead>\n",
       "    <tr style=\"text-align: right;\">\n",
       "      <th></th>\n",
       "      <th>Permit Number</th>\n",
       "      <th>Permit Type</th>\n",
       "      <th>Permit Type Definition</th>\n",
       "      <th>Permit Creation Date</th>\n",
       "      <th>Block</th>\n",
       "      <th>Lot</th>\n",
       "      <th>Street Number</th>\n",
       "      <th>Street Number Suffix</th>\n",
       "      <th>Street Name</th>\n",
       "      <th>Street Suffix</th>\n",
       "      <th>...</th>\n",
       "      <th>Existing Construction Type</th>\n",
       "      <th>Existing Construction Type Description</th>\n",
       "      <th>Proposed Construction Type</th>\n",
       "      <th>Proposed Construction Type Description</th>\n",
       "      <th>Site Permit</th>\n",
       "      <th>Supervisor District</th>\n",
       "      <th>Neighborhoods - Analysis Boundaries</th>\n",
       "      <th>Zipcode</th>\n",
       "      <th>Location</th>\n",
       "      <th>Record ID</th>\n",
       "    </tr>\n",
       "  </thead>\n",
       "  <tbody>\n",
       "    <tr>\n",
       "      <th>0</th>\n",
       "      <td>201505065519</td>\n",
       "      <td>4</td>\n",
       "      <td>sign - erect</td>\n",
       "      <td>05/06/2015</td>\n",
       "      <td>0326</td>\n",
       "      <td>023</td>\n",
       "      <td>140</td>\n",
       "      <td>NaN</td>\n",
       "      <td>Ellis</td>\n",
       "      <td>St</td>\n",
       "      <td>...</td>\n",
       "      <td>3.0</td>\n",
       "      <td>constr type 3</td>\n",
       "      <td>NaN</td>\n",
       "      <td>NaN</td>\n",
       "      <td>NaN</td>\n",
       "      <td>3.0</td>\n",
       "      <td>Tenderloin</td>\n",
       "      <td>94102.0</td>\n",
       "      <td>(37.785719256680785, -122.40852313194863)</td>\n",
       "      <td>1380611233945</td>\n",
       "    </tr>\n",
       "    <tr>\n",
       "      <th>1</th>\n",
       "      <td>201604195146</td>\n",
       "      <td>4</td>\n",
       "      <td>sign - erect</td>\n",
       "      <td>04/19/2016</td>\n",
       "      <td>0306</td>\n",
       "      <td>007</td>\n",
       "      <td>440</td>\n",
       "      <td>NaN</td>\n",
       "      <td>Geary</td>\n",
       "      <td>St</td>\n",
       "      <td>...</td>\n",
       "      <td>3.0</td>\n",
       "      <td>constr type 3</td>\n",
       "      <td>NaN</td>\n",
       "      <td>NaN</td>\n",
       "      <td>NaN</td>\n",
       "      <td>3.0</td>\n",
       "      <td>Tenderloin</td>\n",
       "      <td>94102.0</td>\n",
       "      <td>(37.78733980600732, -122.41063199757738)</td>\n",
       "      <td>1420164406718</td>\n",
       "    </tr>\n",
       "    <tr>\n",
       "      <th>2</th>\n",
       "      <td>201605278609</td>\n",
       "      <td>3</td>\n",
       "      <td>additions alterations or repairs</td>\n",
       "      <td>05/27/2016</td>\n",
       "      <td>0595</td>\n",
       "      <td>203</td>\n",
       "      <td>1647</td>\n",
       "      <td>NaN</td>\n",
       "      <td>Pacific</td>\n",
       "      <td>Av</td>\n",
       "      <td>...</td>\n",
       "      <td>1.0</td>\n",
       "      <td>constr type 1</td>\n",
       "      <td>1.0</td>\n",
       "      <td>constr type 1</td>\n",
       "      <td>NaN</td>\n",
       "      <td>3.0</td>\n",
       "      <td>Russian Hill</td>\n",
       "      <td>94109.0</td>\n",
       "      <td>(37.7946573324287, -122.42232562979227)</td>\n",
       "      <td>1424856504716</td>\n",
       "    </tr>\n",
       "    <tr>\n",
       "      <th>3</th>\n",
       "      <td>201611072166</td>\n",
       "      <td>8</td>\n",
       "      <td>otc alterations permit</td>\n",
       "      <td>11/07/2016</td>\n",
       "      <td>0156</td>\n",
       "      <td>011</td>\n",
       "      <td>1230</td>\n",
       "      <td>NaN</td>\n",
       "      <td>Pacific</td>\n",
       "      <td>Av</td>\n",
       "      <td>...</td>\n",
       "      <td>5.0</td>\n",
       "      <td>wood frame (5)</td>\n",
       "      <td>5.0</td>\n",
       "      <td>wood frame (5)</td>\n",
       "      <td>NaN</td>\n",
       "      <td>3.0</td>\n",
       "      <td>Nob Hill</td>\n",
       "      <td>94109.0</td>\n",
       "      <td>(37.79595867909168, -122.41557405519474)</td>\n",
       "      <td>1443574295566</td>\n",
       "    </tr>\n",
       "    <tr>\n",
       "      <th>4</th>\n",
       "      <td>201611283529</td>\n",
       "      <td>6</td>\n",
       "      <td>demolitions</td>\n",
       "      <td>11/28/2016</td>\n",
       "      <td>0342</td>\n",
       "      <td>001</td>\n",
       "      <td>950</td>\n",
       "      <td>NaN</td>\n",
       "      <td>Market</td>\n",
       "      <td>St</td>\n",
       "      <td>...</td>\n",
       "      <td>3.0</td>\n",
       "      <td>constr type 3</td>\n",
       "      <td>NaN</td>\n",
       "      <td>NaN</td>\n",
       "      <td>NaN</td>\n",
       "      <td>6.0</td>\n",
       "      <td>Tenderloin</td>\n",
       "      <td>94102.0</td>\n",
       "      <td>(37.78315261897309, -122.40950883997789)</td>\n",
       "      <td>144548169992</td>\n",
       "    </tr>\n",
       "  </tbody>\n",
       "</table>\n",
       "<p>5 rows × 43 columns</p>\n",
       "</div>"
      ],
      "text/plain": [
       "  Permit Number  Permit Type            Permit Type Definition  \\\n",
       "0  201505065519            4                      sign - erect   \n",
       "1  201604195146            4                      sign - erect   \n",
       "2  201605278609            3  additions alterations or repairs   \n",
       "3  201611072166            8            otc alterations permit   \n",
       "4  201611283529            6                       demolitions   \n",
       "\n",
       "  Permit Creation Date Block  Lot  Street Number Street Number Suffix  \\\n",
       "0           05/06/2015  0326  023            140                  NaN   \n",
       "1           04/19/2016  0306  007            440                  NaN   \n",
       "2           05/27/2016  0595  203           1647                  NaN   \n",
       "3           11/07/2016  0156  011           1230                  NaN   \n",
       "4           11/28/2016  0342  001            950                  NaN   \n",
       "\n",
       "  Street Name Street Suffix  ...  Existing Construction Type  \\\n",
       "0       Ellis            St  ...                         3.0   \n",
       "1       Geary            St  ...                         3.0   \n",
       "2     Pacific            Av  ...                         1.0   \n",
       "3     Pacific            Av  ...                         5.0   \n",
       "4      Market            St  ...                         3.0   \n",
       "\n",
       "  Existing Construction Type Description Proposed Construction Type  \\\n",
       "0                          constr type 3                        NaN   \n",
       "1                          constr type 3                        NaN   \n",
       "2                          constr type 1                        1.0   \n",
       "3                         wood frame (5)                        5.0   \n",
       "4                          constr type 3                        NaN   \n",
       "\n",
       "  Proposed Construction Type Description Site Permit Supervisor District  \\\n",
       "0                                    NaN         NaN                 3.0   \n",
       "1                                    NaN         NaN                 3.0   \n",
       "2                          constr type 1         NaN                 3.0   \n",
       "3                         wood frame (5)         NaN                 3.0   \n",
       "4                                    NaN         NaN                 6.0   \n",
       "\n",
       "  Neighborhoods - Analysis Boundaries  Zipcode  \\\n",
       "0                          Tenderloin  94102.0   \n",
       "1                          Tenderloin  94102.0   \n",
       "2                        Russian Hill  94109.0   \n",
       "3                            Nob Hill  94109.0   \n",
       "4                          Tenderloin  94102.0   \n",
       "\n",
       "                                    Location      Record ID  \n",
       "0  (37.785719256680785, -122.40852313194863)  1380611233945  \n",
       "1   (37.78733980600732, -122.41063199757738)  1420164406718  \n",
       "2    (37.7946573324287, -122.42232562979227)  1424856504716  \n",
       "3   (37.79595867909168, -122.41557405519474)  1443574295566  \n",
       "4   (37.78315261897309, -122.40950883997789)   144548169992  \n",
       "\n",
       "[5 rows x 43 columns]"
      ]
     },
     "execution_count": 3,
     "metadata": {},
     "output_type": "execute_result"
    }
   ],
   "source": [
    "# TODO: Your code here!\n",
    "sf_permits.head(5)"
   ]
  },
  {
   "cell_type": "markdown",
   "id": "536543e0",
   "metadata": {
    "papermill": {
     "duration": 0.005279,
     "end_time": "2022-07-19T01:13:06.345439",
     "exception": false,
     "start_time": "2022-07-19T01:13:06.340160",
     "status": "completed"
    },
    "tags": []
   },
   "source": [
    "Does the dataset have any missing values?  Once you have an answer, run the code cell below to get credit for your work."
   ]
  },
  {
   "cell_type": "code",
   "execution_count": 4,
   "id": "d4190017",
   "metadata": {
    "execution": {
     "iopub.execute_input": "2022-07-19T01:13:06.359057Z",
     "iopub.status.busy": "2022-07-19T01:13:06.358325Z",
     "iopub.status.idle": "2022-07-19T01:13:06.368068Z",
     "shell.execute_reply": "2022-07-19T01:13:06.366872Z"
    },
    "papermill": {
     "duration": 0.019606,
     "end_time": "2022-07-19T01:13:06.370420",
     "exception": false,
     "start_time": "2022-07-19T01:13:06.350814",
     "status": "completed"
    },
    "tags": []
   },
   "outputs": [
    {
     "data": {
      "application/javascript": [
       "parent.postMessage({\"jupyterEvent\": \"custom.exercise_interaction\", \"data\": {\"outcomeType\": 1, \"valueTowardsCompletion\": 0.16666666666666666, \"interactionType\": 1, \"questionType\": 4, \"questionId\": \"1_TakeFirstLook\", \"learnToolsVersion\": \"0.3.4\", \"failureMessage\": \"\", \"exceptionClass\": \"\", \"trace\": \"\"}}, \"*\")"
      ],
      "text/plain": [
       "<IPython.core.display.Javascript object>"
      ]
     },
     "metadata": {},
     "output_type": "display_data"
    },
    {
     "data": {
      "text/markdown": [
       "<span style=\"color:#33cc33\">Correct:</span> \n",
       "\n",
       "The first five rows of the data does show that several columns have missing values.  You can see this in the \"Street Number Suffix\", \"Proposed Construction Type\" and \"Site Permit\" columns, among others."
      ],
      "text/plain": [
       "Correct: \n",
       "\n",
       "The first five rows of the data does show that several columns have missing values.  You can see this in the \"Street Number Suffix\", \"Proposed Construction Type\" and \"Site Permit\" columns, among others."
      ]
     },
     "metadata": {},
     "output_type": "display_data"
    }
   ],
   "source": [
    "# Check your answer (Run this code cell to receive credit!)\n",
    "q1.check()"
   ]
  },
  {
   "cell_type": "code",
   "execution_count": 5,
   "id": "faf8881d",
   "metadata": {
    "execution": {
     "iopub.execute_input": "2022-07-19T01:13:06.384294Z",
     "iopub.status.busy": "2022-07-19T01:13:06.383527Z",
     "iopub.status.idle": "2022-07-19T01:13:06.388278Z",
     "shell.execute_reply": "2022-07-19T01:13:06.387267Z"
    },
    "papermill": {
     "duration": 0.014087,
     "end_time": "2022-07-19T01:13:06.390475",
     "exception": false,
     "start_time": "2022-07-19T01:13:06.376388",
     "status": "completed"
    },
    "tags": []
   },
   "outputs": [],
   "source": [
    "# Line below will give you a hint\n",
    "#q1.hint()"
   ]
  },
  {
   "cell_type": "markdown",
   "id": "56f29bd5",
   "metadata": {
    "papermill": {
     "duration": 0.005733,
     "end_time": "2022-07-19T01:13:06.402142",
     "exception": false,
     "start_time": "2022-07-19T01:13:06.396409",
     "status": "completed"
    },
    "tags": []
   },
   "source": [
    "# 2) How many missing data points do we have?\n",
    "\n",
    "What percentage of the values in the dataset are missing?  Your answer should be a number between 0 and 100.  (If 1/4 of the values in the dataset are missing, the answer is 25.)"
   ]
  },
  {
   "cell_type": "code",
   "execution_count": 6,
   "id": "37712d6c",
   "metadata": {
    "execution": {
     "iopub.execute_input": "2022-07-19T01:13:06.420074Z",
     "iopub.status.busy": "2022-07-19T01:13:06.419489Z",
     "iopub.status.idle": "2022-07-19T01:13:06.696258Z",
     "shell.execute_reply": "2022-07-19T01:13:06.695189Z"
    },
    "papermill": {
     "duration": 0.290403,
     "end_time": "2022-07-19T01:13:06.699003",
     "exception": false,
     "start_time": "2022-07-19T01:13:06.408600",
     "status": "completed"
    },
    "tags": []
   },
   "outputs": [
    {
     "data": {
      "application/javascript": [
       "parent.postMessage({\"jupyterEvent\": \"custom.exercise_interaction\", \"data\": {\"outcomeType\": 1, \"valueTowardsCompletion\": 0.16666666666666666, \"interactionType\": 1, \"questionType\": 1, \"questionId\": \"2_PercentMissingValues\", \"learnToolsVersion\": \"0.3.4\", \"failureMessage\": \"\", \"exceptionClass\": \"\", \"trace\": \"\"}}, \"*\")"
      ],
      "text/plain": [
       "<IPython.core.display.Javascript object>"
      ]
     },
     "metadata": {},
     "output_type": "display_data"
    },
    {
     "data": {
      "text/markdown": [
       "<span style=\"color:#33cc33\">Correct</span>"
      ],
      "text/plain": [
       "Correct"
      ]
     },
     "metadata": {},
     "output_type": "display_data"
    }
   ],
   "source": [
    "# TODO: Your code here!\n",
    "percent_missing = (sf_permits.isnull().sum().sum()/np.product(sf_permits.shape))*100\n",
    "\n",
    "# Check your answer\n",
    "q2.check()"
   ]
  },
  {
   "cell_type": "code",
   "execution_count": 7,
   "id": "7db0b24d",
   "metadata": {
    "execution": {
     "iopub.execute_input": "2022-07-19T01:13:06.713777Z",
     "iopub.status.busy": "2022-07-19T01:13:06.713218Z",
     "iopub.status.idle": "2022-07-19T01:13:06.716561Z",
     "shell.execute_reply": "2022-07-19T01:13:06.715851Z"
    },
    "papermill": {
     "duration": 0.01324,
     "end_time": "2022-07-19T01:13:06.718992",
     "exception": false,
     "start_time": "2022-07-19T01:13:06.705752",
     "status": "completed"
    },
    "tags": []
   },
   "outputs": [],
   "source": [
    "# Lines below will give you a hint or solution code\n",
    "#q2.hint()\n",
    "#q2.solution()"
   ]
  },
  {
   "cell_type": "markdown",
   "id": "afef7035",
   "metadata": {
    "papermill": {
     "duration": 0.009694,
     "end_time": "2022-07-19T01:13:06.739064",
     "exception": false,
     "start_time": "2022-07-19T01:13:06.729370",
     "status": "completed"
    },
    "tags": []
   },
   "source": [
    "# 3) Figure out why the data is missing\n",
    "\n",
    "Look at the columns **\"Street Number Suffix\"** and **\"Zipcode\"** from the [San Francisco Building Permits dataset](https://www.kaggle.com/aparnashastry/building-permit-applications-data). Both of these contain missing values. \n",
    "- Which, if either, are missing because they don't exist? \n",
    "- Which, if either, are missing because they weren't recorded?  \n",
    "\n",
    "Once you have an answer, run the code cell below."
   ]
  },
  {
   "cell_type": "code",
   "execution_count": 8,
   "id": "e491760d",
   "metadata": {
    "execution": {
     "iopub.execute_input": "2022-07-19T01:13:06.758220Z",
     "iopub.status.busy": "2022-07-19T01:13:06.756850Z",
     "iopub.status.idle": "2022-07-19T01:13:06.782931Z",
     "shell.execute_reply": "2022-07-19T01:13:06.781265Z"
    },
    "papermill": {
     "duration": 0.038,
     "end_time": "2022-07-19T01:13:06.786343",
     "exception": false,
     "start_time": "2022-07-19T01:13:06.748343",
     "status": "completed"
    },
    "tags": []
   },
   "outputs": [
    {
     "name": "stdout",
     "output_type": "stream",
     "text": [
      "       Street Number Suffix  Zipcode\n",
      "0                       NaN  94102.0\n",
      "1                       NaN  94102.0\n",
      "2                       NaN  94109.0\n",
      "3                       NaN  94109.0\n",
      "4                       NaN  94102.0\n",
      "...                     ...      ...\n",
      "198895                  NaN      NaN\n",
      "198896                  NaN      NaN\n",
      "198897                  NaN      NaN\n",
      "198898                  NaN      NaN\n",
      "198899                  NaN      NaN\n",
      "\n",
      "[198900 rows x 2 columns]\n"
     ]
    },
    {
     "data": {
      "application/javascript": [
       "parent.postMessage({\"jupyterEvent\": \"custom.exercise_interaction\", \"data\": {\"outcomeType\": 1, \"valueTowardsCompletion\": 0.16666666666666666, \"interactionType\": 1, \"questionType\": 4, \"questionId\": \"3_WhyDataMissing\", \"learnToolsVersion\": \"0.3.4\", \"failureMessage\": \"\", \"exceptionClass\": \"\", \"trace\": \"\"}}, \"*\")"
      ],
      "text/plain": [
       "<IPython.core.display.Javascript object>"
      ]
     },
     "metadata": {},
     "output_type": "display_data"
    },
    {
     "data": {
      "text/markdown": [
       "<span style=\"color:#33cc33\">Correct:</span> \n",
       "\n",
       "If a value in the \"Street Number Suffix\" column is missing, it is likely because it does not exist. If a value in the \"Zipcode\" column is missing, it was not recorded."
      ],
      "text/plain": [
       "Correct: \n",
       "\n",
       "If a value in the \"Street Number Suffix\" column is missing, it is likely because it does not exist. If a value in the \"Zipcode\" column is missing, it was not recorded."
      ]
     },
     "metadata": {},
     "output_type": "display_data"
    }
   ],
   "source": [
    "# Check your answer (Run this code cell to receive credit!)\n",
    "\n",
    "print(sf_permits.loc[:,[\"Street Number Suffix\",\"Zipcode\"]])\n",
    "q3.check()"
   ]
  },
  {
   "cell_type": "code",
   "execution_count": 9,
   "id": "9345247e",
   "metadata": {
    "execution": {
     "iopub.execute_input": "2022-07-19T01:13:06.805374Z",
     "iopub.status.busy": "2022-07-19T01:13:06.804443Z",
     "iopub.status.idle": "2022-07-19T01:13:06.809224Z",
     "shell.execute_reply": "2022-07-19T01:13:06.808182Z"
    },
    "papermill": {
     "duration": 0.01644,
     "end_time": "2022-07-19T01:13:06.811293",
     "exception": false,
     "start_time": "2022-07-19T01:13:06.794853",
     "status": "completed"
    },
    "tags": []
   },
   "outputs": [],
   "source": [
    "# Line below will give you a hint\n",
    "#q3.hint()"
   ]
  },
  {
   "cell_type": "markdown",
   "id": "a89726dc",
   "metadata": {
    "papermill": {
     "duration": 0.006093,
     "end_time": "2022-07-19T01:13:06.823986",
     "exception": false,
     "start_time": "2022-07-19T01:13:06.817893",
     "status": "completed"
    },
    "tags": []
   },
   "source": [
    "# 4) Drop missing values: rows\n",
    "\n",
    "If you removed all of the rows of `sf_permits` with missing values, how many rows are left?\n",
    "\n",
    "**Note**: Do not change the value of `sf_permits` when checking this.  "
   ]
  },
  {
   "cell_type": "code",
   "execution_count": 10,
   "id": "4daf8828",
   "metadata": {
    "execution": {
     "iopub.execute_input": "2022-07-19T01:13:06.840212Z",
     "iopub.status.busy": "2022-07-19T01:13:06.839167Z",
     "iopub.status.idle": "2022-07-19T01:13:07.090861Z",
     "shell.execute_reply": "2022-07-19T01:13:07.089195Z"
    },
    "papermill": {
     "duration": 0.263487,
     "end_time": "2022-07-19T01:13:07.093949",
     "exception": false,
     "start_time": "2022-07-19T01:13:06.830462",
     "status": "completed"
    },
    "tags": []
   },
   "outputs": [
    {
     "name": "stdout",
     "output_type": "stream",
     "text": [
      "198900\n"
     ]
    }
   ],
   "source": [
    "# TODO: Your code here!\n",
    "#missings=sf_permits.isnull().sum()\n",
    "\n",
    "#print(sf_permists.shape[0] - missings.shape[0])\n",
    "\n",
    "df=sf_permits.dropna()\n",
    "print(sf_permits.shape[0] - df.shape[0])"
   ]
  },
  {
   "cell_type": "markdown",
   "id": "da9c90fe",
   "metadata": {
    "papermill": {
     "duration": 0.006353,
     "end_time": "2022-07-19T01:13:07.107264",
     "exception": false,
     "start_time": "2022-07-19T01:13:07.100911",
     "status": "completed"
    },
    "tags": []
   },
   "source": [
    "Once you have an answer, run the code cell below."
   ]
  },
  {
   "cell_type": "code",
   "execution_count": 11,
   "id": "50b265c4",
   "metadata": {
    "execution": {
     "iopub.execute_input": "2022-07-19T01:13:07.122649Z",
     "iopub.status.busy": "2022-07-19T01:13:07.121765Z",
     "iopub.status.idle": "2022-07-19T01:13:07.132868Z",
     "shell.execute_reply": "2022-07-19T01:13:07.131792Z"
    },
    "papermill": {
     "duration": 0.021077,
     "end_time": "2022-07-19T01:13:07.135029",
     "exception": false,
     "start_time": "2022-07-19T01:13:07.113952",
     "status": "completed"
    },
    "tags": []
   },
   "outputs": [
    {
     "data": {
      "application/javascript": [
       "parent.postMessage({\"jupyterEvent\": \"custom.exercise_interaction\", \"data\": {\"outcomeType\": 1, \"valueTowardsCompletion\": 0.16666666666666666, \"interactionType\": 1, \"questionType\": 4, \"questionId\": \"4_DropMissingRows\", \"learnToolsVersion\": \"0.3.4\", \"failureMessage\": \"\", \"exceptionClass\": \"\", \"trace\": \"\"}}, \"*\")"
      ],
      "text/plain": [
       "<IPython.core.display.Javascript object>"
      ]
     },
     "metadata": {},
     "output_type": "display_data"
    },
    {
     "data": {
      "text/markdown": [
       "<span style=\"color:#33cc33\">Correct:</span> \n",
       "\n",
       "There are no rows remaining in the dataset!"
      ],
      "text/plain": [
       "Correct: \n",
       "\n",
       "There are no rows remaining in the dataset!"
      ]
     },
     "metadata": {},
     "output_type": "display_data"
    }
   ],
   "source": [
    "# Check your answer (Run this code cell to receive credit!)\n",
    "q4.check()"
   ]
  },
  {
   "cell_type": "code",
   "execution_count": 12,
   "id": "ea84a546",
   "metadata": {
    "execution": {
     "iopub.execute_input": "2022-07-19T01:13:07.151141Z",
     "iopub.status.busy": "2022-07-19T01:13:07.150274Z",
     "iopub.status.idle": "2022-07-19T01:13:07.155424Z",
     "shell.execute_reply": "2022-07-19T01:13:07.154400Z"
    },
    "papermill": {
     "duration": 0.015782,
     "end_time": "2022-07-19T01:13:07.157479",
     "exception": false,
     "start_time": "2022-07-19T01:13:07.141697",
     "status": "completed"
    },
    "tags": []
   },
   "outputs": [],
   "source": [
    "# Line below will give you a hint\n",
    "#q4.hint()"
   ]
  },
  {
   "cell_type": "markdown",
   "id": "fa32ee87",
   "metadata": {
    "papermill": {
     "duration": 0.006384,
     "end_time": "2022-07-19T01:13:07.170773",
     "exception": false,
     "start_time": "2022-07-19T01:13:07.164389",
     "status": "completed"
    },
    "tags": []
   },
   "source": [
    "# 5) Drop missing values: columns\n",
    "\n",
    "Now try removing all the columns with empty values.  \n",
    "- Create a new DataFrame called `sf_permits_with_na_dropped` that has all of the columns with empty values removed.  \n",
    "- How many columns were removed from the original `sf_permits` DataFrame? Use this number to set the value of the `dropped_columns` variable below."
   ]
  },
  {
   "cell_type": "code",
   "execution_count": 13,
   "id": "b10691c3",
   "metadata": {
    "execution": {
     "iopub.execute_input": "2022-07-19T01:13:07.186001Z",
     "iopub.status.busy": "2022-07-19T01:13:07.185621Z",
     "iopub.status.idle": "2022-07-19T01:13:07.189941Z",
     "shell.execute_reply": "2022-07-19T01:13:07.188835Z"
    },
    "papermill": {
     "duration": 0.014672,
     "end_time": "2022-07-19T01:13:07.192088",
     "exception": false,
     "start_time": "2022-07-19T01:13:07.177416",
     "status": "completed"
    },
    "tags": []
   },
   "outputs": [],
   "source": [
    "# Lines below will give you a hint or solution code\n",
    "#q5.hint()\n",
    "#q5.solution()"
   ]
  },
  {
   "cell_type": "code",
   "execution_count": 14,
   "id": "4fcf7948",
   "metadata": {
    "execution": {
     "iopub.execute_input": "2022-07-19T01:13:07.209023Z",
     "iopub.status.busy": "2022-07-19T01:13:07.208098Z",
     "iopub.status.idle": "2022-07-19T01:13:07.465826Z",
     "shell.execute_reply": "2022-07-19T01:13:07.464596Z"
    },
    "papermill": {
     "duration": 0.268865,
     "end_time": "2022-07-19T01:13:07.468009",
     "exception": false,
     "start_time": "2022-07-19T01:13:07.199144",
     "status": "completed"
    },
    "tags": []
   },
   "outputs": [
    {
     "name": "stdout",
     "output_type": "stream",
     "text": [
      "31\n"
     ]
    },
    {
     "data": {
      "application/javascript": [
       "parent.postMessage({\"jupyterEvent\": \"custom.exercise_interaction\", \"data\": {\"outcomeType\": 1, \"valueTowardsCompletion\": 0.16666666666666666, \"interactionType\": 1, \"questionType\": 1, \"questionId\": \"5_DropMissingCols\", \"learnToolsVersion\": \"0.3.4\", \"failureMessage\": \"\", \"exceptionClass\": \"\", \"trace\": \"\"}}, \"*\")"
      ],
      "text/plain": [
       "<IPython.core.display.Javascript object>"
      ]
     },
     "metadata": {},
     "output_type": "display_data"
    },
    {
     "data": {
      "text/markdown": [
       "<span style=\"color:#33cc33\">Correct</span>"
      ],
      "text/plain": [
       "Correct"
      ]
     },
     "metadata": {},
     "output_type": "display_data"
    }
   ],
   "source": [
    "# TODO: Your code here\n",
    "sf_permits_with_na_dropped = sf_permits.dropna(axis=1)\n",
    "\n",
    "dropped_columns = sf_permits.shape[1] - sf_permits_with_na_dropped.shape[1]\n",
    "print(dropped_columns)\n",
    "# Check your answer\n",
    "q5.check()"
   ]
  },
  {
   "cell_type": "markdown",
   "id": "fc0447d9",
   "metadata": {
    "papermill": {
     "duration": 0.006537,
     "end_time": "2022-07-19T01:13:07.481572",
     "exception": false,
     "start_time": "2022-07-19T01:13:07.475035",
     "status": "completed"
    },
    "tags": []
   },
   "source": [
    "# 6) Fill in missing values automatically\n",
    "\n",
    "Try replacing all the NaN's in the `sf_permits` data with the one that comes directly after it and then replacing any remaining NaN's with 0.  Set the result to a new DataFrame `sf_permits_with_na_imputed`."
   ]
  },
  {
   "cell_type": "code",
   "execution_count": 15,
   "id": "6993635e",
   "metadata": {
    "execution": {
     "iopub.execute_input": "2022-07-19T01:13:07.496810Z",
     "iopub.status.busy": "2022-07-19T01:13:07.496420Z",
     "iopub.status.idle": "2022-07-19T01:13:08.360852Z",
     "shell.execute_reply": "2022-07-19T01:13:08.359554Z"
    },
    "papermill": {
     "duration": 0.874881,
     "end_time": "2022-07-19T01:13:08.363317",
     "exception": false,
     "start_time": "2022-07-19T01:13:07.488436",
     "status": "completed"
    },
    "tags": []
   },
   "outputs": [
    {
     "data": {
      "application/javascript": [
       "parent.postMessage({\"jupyterEvent\": \"custom.exercise_interaction\", \"data\": {\"outcomeType\": 1, \"valueTowardsCompletion\": 0.16666666666666666, \"interactionType\": 1, \"questionType\": 1, \"questionId\": \"6_ImputeAutomatically\", \"learnToolsVersion\": \"0.3.4\", \"failureMessage\": \"\", \"exceptionClass\": \"\", \"trace\": \"\"}}, \"*\")"
      ],
      "text/plain": [
       "<IPython.core.display.Javascript object>"
      ]
     },
     "metadata": {},
     "output_type": "display_data"
    },
    {
     "data": {
      "text/markdown": [
       "<span style=\"color:#33cc33\">Correct</span>"
      ],
      "text/plain": [
       "Correct"
      ]
     },
     "metadata": {},
     "output_type": "display_data"
    }
   ],
   "source": [
    "# TODO: Your code here\n",
    "sf_permits_with_na_imputed = sf_permits.fillna(method='bfill',axis=0).fillna(0)\n",
    "\n",
    "\n",
    "# Check your answer\n",
    "q6.check()"
   ]
  },
  {
   "cell_type": "code",
   "execution_count": 16,
   "id": "4872f4de",
   "metadata": {
    "execution": {
     "iopub.execute_input": "2022-07-19T01:13:08.380323Z",
     "iopub.status.busy": "2022-07-19T01:13:08.379875Z",
     "iopub.status.idle": "2022-07-19T01:13:08.384863Z",
     "shell.execute_reply": "2022-07-19T01:13:08.383635Z"
    },
    "papermill": {
     "duration": 0.015977,
     "end_time": "2022-07-19T01:13:08.386897",
     "exception": false,
     "start_time": "2022-07-19T01:13:08.370920",
     "status": "completed"
    },
    "tags": []
   },
   "outputs": [],
   "source": [
    "# Lines below will give you a hint or solution code\n",
    "#q6.hint()\n",
    "#q6.solution()"
   ]
  },
  {
   "cell_type": "markdown",
   "id": "add2146d",
   "metadata": {
    "papermill": {
     "duration": 0.006872,
     "end_time": "2022-07-19T01:13:08.401470",
     "exception": false,
     "start_time": "2022-07-19T01:13:08.394598",
     "status": "completed"
    },
    "tags": []
   },
   "source": [
    "# More practice\n",
    "\n",
    "If you're looking for more practice handling missing values:\n",
    "\n",
    "* Check out [this noteboook](https://www.kaggle.com/alexisbcook/missing-values) on handling missing values using scikit-learn's imputer. \n",
    "* Look back at the \"Zipcode\" column in the `sf_permits` dataset, which has some missing values. How would you go about figuring out what the actual zipcode of each address should be? (You might try using another dataset. You can search for datasets about San Fransisco on the [Datasets listing](https://www.kaggle.com/datasets).) \n",
    "\n",
    "# Keep going\n",
    "\n",
    "In the next lesson, learn how to [**apply scaling and normalization**](https://www.kaggle.com/alexisbcook/scaling-and-normalization) to transform your data."
   ]
  },
  {
   "cell_type": "markdown",
   "id": "8d693f93",
   "metadata": {
    "papermill": {
     "duration": 0.0068,
     "end_time": "2022-07-19T01:13:08.415363",
     "exception": false,
     "start_time": "2022-07-19T01:13:08.408563",
     "status": "completed"
    },
    "tags": []
   },
   "source": [
    "---\n",
    "\n",
    "\n",
    "\n",
    "\n",
    "*Have questions or comments? Visit the [course discussion forum](https://www.kaggle.com/learn/data-cleaning/discussion) to chat with other learners.*"
   ]
  }
 ],
 "metadata": {
  "kernelspec": {
   "display_name": "Python 3",
   "language": "python",
   "name": "python3"
  },
  "language_info": {
   "codemirror_mode": {
    "name": "ipython",
    "version": 3
   },
   "file_extension": ".py",
   "mimetype": "text/x-python",
   "name": "python",
   "nbconvert_exporter": "python",
   "pygments_lexer": "ipython3",
   "version": "3.7.12"
  },
  "papermill": {
   "default_parameters": {},
   "duration": 17.089016,
   "end_time": "2022-07-19T01:13:09.143750",
   "environment_variables": {},
   "exception": null,
   "input_path": "__notebook__.ipynb",
   "output_path": "__notebook__.ipynb",
   "parameters": {},
   "start_time": "2022-07-19T01:12:52.054734",
   "version": "2.3.4"
  }
 },
 "nbformat": 4,
 "nbformat_minor": 5
}
