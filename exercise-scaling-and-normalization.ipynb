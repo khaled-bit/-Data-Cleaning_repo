{
 "cells": [
  {
   "cell_type": "markdown",
   "id": "92d3564d",
   "metadata": {
    "papermill": {
     "duration": 0.005401,
     "end_time": "2022-07-19T01:14:29.360156",
     "exception": false,
     "start_time": "2022-07-19T01:14:29.354755",
     "status": "completed"
    },
    "tags": []
   },
   "source": [
    "**This notebook is an exercise in the [Data Cleaning](https://www.kaggle.com/learn/data-cleaning) course.  You can reference the tutorial at [this link](https://www.kaggle.com/alexisbcook/scaling-and-normalization).**\n",
    "\n",
    "---\n"
   ]
  },
  {
   "cell_type": "markdown",
   "id": "c6a19a2e",
   "metadata": {
    "papermill": {
     "duration": 0.004201,
     "end_time": "2022-07-19T01:14:29.368927",
     "exception": false,
     "start_time": "2022-07-19T01:14:29.364726",
     "status": "completed"
    },
    "tags": []
   },
   "source": [
    "In this exercise, you'll apply what you learned in the **Scaling and normalization** tutorial.\n",
    "\n",
    "# Setup\n",
    "\n",
    "The questions below will give you feedback on your work. Run the following cell to set up the feedback system."
   ]
  },
  {
   "cell_type": "code",
   "execution_count": 1,
   "id": "ea0da919",
   "metadata": {
    "execution": {
     "iopub.execute_input": "2022-07-19T01:14:29.379761Z",
     "iopub.status.busy": "2022-07-19T01:14:29.379101Z",
     "iopub.status.idle": "2022-07-19T01:14:32.574326Z",
     "shell.execute_reply": "2022-07-19T01:14:32.573214Z"
    },
    "papermill": {
     "duration": 3.203331,
     "end_time": "2022-07-19T01:14:32.576644",
     "exception": false,
     "start_time": "2022-07-19T01:14:29.373313",
     "status": "completed"
    },
    "tags": []
   },
   "outputs": [
    {
     "name": "stdout",
     "output_type": "stream",
     "text": [
      "Setup Complete\n"
     ]
    }
   ],
   "source": [
    "from learntools.core import binder\n",
    "binder.bind(globals())\n",
    "from learntools.data_cleaning.ex2 import *\n",
    "print(\"Setup Complete\")"
   ]
  },
  {
   "cell_type": "markdown",
   "id": "e0262f85",
   "metadata": {
    "papermill": {
     "duration": 0.004161,
     "end_time": "2022-07-19T01:14:32.585670",
     "exception": false,
     "start_time": "2022-07-19T01:14:32.581509",
     "status": "completed"
    },
    "tags": []
   },
   "source": [
    "# Get our environment set up\n",
    "\n",
    "To practice scaling and normalization, we're going to use a [dataset of Kickstarter campaigns](https://www.kaggle.com/kemical/kickstarter-projects). (Kickstarter is a website where people can ask people to invest in various projects and concept products.)\n",
    "\n",
    "The next code cell loads in the libraries and dataset we'll be using. "
   ]
  },
  {
   "cell_type": "code",
   "execution_count": 2,
   "id": "9e549b0d",
   "metadata": {
    "execution": {
     "iopub.execute_input": "2022-07-19T01:14:32.596353Z",
     "iopub.status.busy": "2022-07-19T01:14:32.595700Z",
     "iopub.status.idle": "2022-07-19T01:14:33.927435Z",
     "shell.execute_reply": "2022-07-19T01:14:33.926394Z"
    },
    "papermill": {
     "duration": 1.339932,
     "end_time": "2022-07-19T01:14:33.929944",
     "exception": false,
     "start_time": "2022-07-19T01:14:32.590012",
     "status": "completed"
    },
    "tags": []
   },
   "outputs": [],
   "source": [
    "# modules we'll use\n",
    "import pandas as pd\n",
    "import numpy as np\n",
    "\n",
    "# for Box-Cox Transformation\n",
    "from scipy import stats\n",
    "\n",
    "# for min_max scaling\n",
    "from mlxtend.preprocessing import minmax_scaling\n",
    "\n",
    "# plotting modules\n",
    "import seaborn as sns\n",
    "import matplotlib.pyplot as plt\n",
    "\n",
    "# read in all our data\n",
    "kickstarters_2017 = pd.read_csv(\"../input/kickstarter-projects/ks-projects-201801.csv\")\n",
    "\n",
    "# set seed for reproducibility\n",
    "np.random.seed(0)"
   ]
  },
  {
   "cell_type": "code",
   "execution_count": 3,
   "id": "2b53d079",
   "metadata": {
    "execution": {
     "iopub.execute_input": "2022-07-19T01:14:33.941235Z",
     "iopub.status.busy": "2022-07-19T01:14:33.940863Z",
     "iopub.status.idle": "2022-07-19T01:14:33.964274Z",
     "shell.execute_reply": "2022-07-19T01:14:33.963016Z"
    },
    "papermill": {
     "duration": 0.032116,
     "end_time": "2022-07-19T01:14:33.966889",
     "exception": false,
     "start_time": "2022-07-19T01:14:33.934773",
     "status": "completed"
    },
    "tags": []
   },
   "outputs": [],
   "source": [
    "# select the usd_goal_real column\n",
    "original_data = pd.DataFrame(kickstarters_2017.usd_goal_real)\n",
    "\n",
    "# scale the goals from 0 to 1\n",
    "scaled_data = minmax_scaling(original_data, columns=['usd_goal_real'])\n",
    "\n"
   ]
  },
  {
   "cell_type": "markdown",
   "id": "7a856813",
   "metadata": {
    "papermill": {
     "duration": 0.004106,
     "end_time": "2022-07-19T01:14:33.975661",
     "exception": false,
     "start_time": "2022-07-19T01:14:33.971555",
     "status": "completed"
    },
    "tags": []
   },
   "source": [
    "Let's start by scaling the goals of each campaign, which is how much money they were asking for.  After scaling, all values lie between 0 and 1."
   ]
  },
  {
   "cell_type": "code",
   "execution_count": 4,
   "id": "39f863d5",
   "metadata": {
    "execution": {
     "iopub.execute_input": "2022-07-19T01:14:33.986151Z",
     "iopub.status.busy": "2022-07-19T01:14:33.985758Z",
     "iopub.status.idle": "2022-07-19T01:14:34.004416Z",
     "shell.execute_reply": "2022-07-19T01:14:34.003521Z"
    },
    "papermill": {
     "duration": 0.026833,
     "end_time": "2022-07-19T01:14:34.006692",
     "exception": false,
     "start_time": "2022-07-19T01:14:33.979859",
     "status": "completed"
    },
    "tags": []
   },
   "outputs": [
    {
     "name": "stdout",
     "output_type": "stream",
     "text": [
      "Original data\n",
      "Preview:\n",
      "    usd_goal_real\n",
      "0        1533.95\n",
      "1       30000.00\n",
      "2       45000.00\n",
      "3        5000.00\n",
      "4       19500.00\n",
      "Minimum value: 0.01 \n",
      "Maximum value: 166361390.71\n",
      "______________________________\n",
      "\n",
      "Scaled data\n",
      "Preview:\n",
      "    usd_goal_real\n",
      "0       0.000009\n",
      "1       0.000180\n",
      "2       0.000270\n",
      "3       0.000030\n",
      "4       0.000117\n",
      "Minimum value: 0.0 \n",
      "Maximum value: 1.0\n"
     ]
    }
   ],
   "source": [
    "\n",
    "print('Original data\\nPreview:\\n', original_data.head())\n",
    "print('Minimum value:', float(original_data.min()),\n",
    "      '\\nMaximum value:', float(original_data.max()))\n",
    "print('_'*30)\n",
    "\n",
    "print('\\nScaled data\\nPreview:\\n', scaled_data.head())\n",
    "print('Minimum value:', float(scaled_data.min()),\n",
    "      '\\nMaximum value:', float(scaled_data.max()))"
   ]
  },
  {
   "cell_type": "markdown",
   "id": "3ba69749",
   "metadata": {
    "papermill": {
     "duration": 0.004224,
     "end_time": "2022-07-19T01:14:34.015327",
     "exception": false,
     "start_time": "2022-07-19T01:14:34.011103",
     "status": "completed"
    },
    "tags": []
   },
   "source": [
    "# 1) Practice scaling\n",
    "\n",
    "We just scaled the \"usd_goal_real\" column. What about the \"goal\" column?\n",
    "\n",
    "Begin by running the code cell below to create a DataFrame `original_goal_data` containing the \"goal\" column."
   ]
  },
  {
   "cell_type": "code",
   "execution_count": 5,
   "id": "e57963b0",
   "metadata": {
    "execution": {
     "iopub.execute_input": "2022-07-19T01:14:34.026080Z",
     "iopub.status.busy": "2022-07-19T01:14:34.024998Z",
     "iopub.status.idle": "2022-07-19T01:14:34.031449Z",
     "shell.execute_reply": "2022-07-19T01:14:34.030385Z"
    },
    "papermill": {
     "duration": 0.013831,
     "end_time": "2022-07-19T01:14:34.033517",
     "exception": false,
     "start_time": "2022-07-19T01:14:34.019686",
     "status": "completed"
    },
    "tags": []
   },
   "outputs": [],
   "source": [
    "# select the usd_goal_real column\n",
    "original_goal_data = pd.DataFrame(kickstarters_2017.goal)"
   ]
  },
  {
   "cell_type": "markdown",
   "id": "c4a6bbe1",
   "metadata": {
    "papermill": {
     "duration": 0.004252,
     "end_time": "2022-07-19T01:14:34.042394",
     "exception": false,
     "start_time": "2022-07-19T01:14:34.038142",
     "status": "completed"
    },
    "tags": []
   },
   "source": [
    "Use `original_goal_data` to create a new DataFrame `scaled_goal_data` with values scaled between 0 and 1. You must use the `minmax_scaling()` function."
   ]
  },
  {
   "cell_type": "code",
   "execution_count": 6,
   "id": "96a4854a",
   "metadata": {
    "execution": {
     "iopub.execute_input": "2022-07-19T01:14:34.053021Z",
     "iopub.status.busy": "2022-07-19T01:14:34.052673Z",
     "iopub.status.idle": "2022-07-19T01:14:34.080531Z",
     "shell.execute_reply": "2022-07-19T01:14:34.079452Z"
    },
    "papermill": {
     "duration": 0.03598,
     "end_time": "2022-07-19T01:14:34.082795",
     "exception": false,
     "start_time": "2022-07-19T01:14:34.046815",
     "status": "completed"
    },
    "tags": []
   },
   "outputs": [
    {
     "data": {
      "application/javascript": [
       "parent.postMessage({\"jupyterEvent\": \"custom.exercise_interaction\", \"data\": {\"outcomeType\": 1, \"valueTowardsCompletion\": 0.3333333333333333, \"interactionType\": 1, \"questionType\": 1, \"questionId\": \"1_TryScaling\", \"learnToolsVersion\": \"0.3.4\", \"failureMessage\": \"\", \"exceptionClass\": \"\", \"trace\": \"\"}}, \"*\")"
      ],
      "text/plain": [
       "<IPython.core.display.Javascript object>"
      ]
     },
     "metadata": {},
     "output_type": "display_data"
    },
    {
     "data": {
      "text/markdown": [
       "<span style=\"color:#33cc33\">Correct</span>"
      ],
      "text/plain": [
       "Correct"
      ]
     },
     "metadata": {},
     "output_type": "display_data"
    }
   ],
   "source": [
    "# TODO: Your code here\n",
    "scaled_goal_data = minmax_scaling(original_goal_data,columns=['goal'])\n",
    "\n",
    "# Check your answer\n",
    "q1.check()"
   ]
  },
  {
   "cell_type": "code",
   "execution_count": 7,
   "id": "f51f52be",
   "metadata": {
    "execution": {
     "iopub.execute_input": "2022-07-19T01:14:34.093920Z",
     "iopub.status.busy": "2022-07-19T01:14:34.093553Z",
     "iopub.status.idle": "2022-07-19T01:14:34.098202Z",
     "shell.execute_reply": "2022-07-19T01:14:34.097122Z"
    },
    "papermill": {
     "duration": 0.012574,
     "end_time": "2022-07-19T01:14:34.100293",
     "exception": false,
     "start_time": "2022-07-19T01:14:34.087719",
     "status": "completed"
    },
    "tags": []
   },
   "outputs": [],
   "source": [
    "# Lines below will give you a hint or solution code\n",
    "#q1.hint()\n",
    "#q1.solution()"
   ]
  },
  {
   "cell_type": "markdown",
   "id": "c7a50a2a",
   "metadata": {
    "papermill": {
     "duration": 0.004357,
     "end_time": "2022-07-19T01:14:34.109568",
     "exception": false,
     "start_time": "2022-07-19T01:14:34.105211",
     "status": "completed"
    },
    "tags": []
   },
   "source": [
    "# 2) Practice normalization\n",
    "\n",
    "Now you'll practice normalization. We begin by normalizing the amount of money pledged to each campaign."
   ]
  },
  {
   "cell_type": "code",
   "execution_count": 8,
   "id": "3d5c0bce",
   "metadata": {
    "execution": {
     "iopub.execute_input": "2022-07-19T01:14:34.120301Z",
     "iopub.status.busy": "2022-07-19T01:14:34.119930Z",
     "iopub.status.idle": "2022-07-19T01:14:37.330418Z",
     "shell.execute_reply": "2022-07-19T01:14:37.329298Z"
    },
    "papermill": {
     "duration": 3.218691,
     "end_time": "2022-07-19T01:14:37.332808",
     "exception": false,
     "start_time": "2022-07-19T01:14:34.114117",
     "status": "completed"
    },
    "tags": []
   },
   "outputs": [
    {
     "name": "stderr",
     "output_type": "stream",
     "text": [
      "/opt/conda/lib/python3.7/site-packages/seaborn/distributions.py:2619: FutureWarning: `distplot` is a deprecated function and will be removed in a future version. Please adapt your code to use either `displot` (a figure-level function with similar flexibility) or `histplot` (an axes-level function for histograms).\n",
      "  warnings.warn(msg, FutureWarning)\n",
      "/opt/conda/lib/python3.7/site-packages/seaborn/distributions.py:2619: FutureWarning: `distplot` is a deprecated function and will be removed in a future version. Please adapt your code to use either `displot` (a figure-level function with similar flexibility) or `histplot` (an axes-level function for histograms).\n",
      "  warnings.warn(msg, FutureWarning)\n"
     ]
    },
    {
     "name": "stdout",
     "output_type": "stream",
     "text": [
      "Original data\n",
      "Preview:\n",
      " 1     2421.0\n",
      "2      220.0\n",
      "3        1.0\n",
      "4     1283.0\n",
      "5    52375.0\n",
      "Name: usd_pledged_real, dtype: float64\n",
      "Minimum value: 0.45 \n",
      "Maximum value: 20338986.27\n",
      "______________________________\n",
      "\n",
      "Normalized data\n",
      "Preview:\n",
      " 1    10.165142\n",
      "2     6.468598\n",
      "3     0.000000\n",
      "4     9.129277\n",
      "5    15.836853\n",
      "Name: usd_pledged_real, dtype: float64\n",
      "Minimum value: -0.7779954122762203 \n",
      "Maximum value: 30.69054020451361\n"
     ]
    },
    {
     "data": {
      "image/png": "[encoded data removed]",
      "text/plain": [
       "<Figure size 1080x216 with 2 Axes>"
      ]
     },
     "metadata": {
      "needs_background": "light"
     },
     "output_type": "display_data"
    }
   ],
   "source": [
    "# get the index of all positive pledges (Box-Cox only takes positive values)\n",
    "index_of_positive_pledges = kickstarters_2017.usd_pledged_real > 0\n",
    "\n",
    "# get only positive pledges (using their indexes)\n",
    "positive_pledges = kickstarters_2017.usd_pledged_real.loc[index_of_positive_pledges]\n",
    "\n",
    "# normalize the pledges (w/ Box-Cox)\n",
    "normalized_pledges = pd.Series(stats.boxcox(positive_pledges)[0], \n",
    "                               name='usd_pledged_real', index=positive_pledges.index)\n",
    "\n",
    "fig, ax=plt.subplots(1,2,figsize=(15,3))\n",
    "sns.distplot(positive_pledges, ax=ax[0])\n",
    "ax[0].set_title(\"Original Data\")\n",
    "sns.distplot(normalized_pledges, ax=ax[1])\n",
    "ax[1].set_title(\"Normalized data\")\n",
    "\n",
    "print('Original data\\nPreview:\\n', positive_pledges.head())\n",
    "print('Minimum value:', float(positive_pledges.min()),\n",
    "      '\\nMaximum value:', float(positive_pledges.max()))\n",
    "print('_'*30)\n",
    "\n",
    "print('\\nNormalized data\\nPreview:\\n', normalized_pledges.head())\n",
    "print('Minimum value:', float(normalized_pledges.min()),\n",
    "      '\\nMaximum value:', float(normalized_pledges.max()))"
   ]
  },
  {
   "cell_type": "markdown",
   "id": "daf4308f",
   "metadata": {
    "papermill": {
     "duration": 0.005556,
     "end_time": "2022-07-19T01:14:37.344463",
     "exception": false,
     "start_time": "2022-07-19T01:14:37.338907",
     "status": "completed"
    },
    "tags": []
   },
   "source": [
    "The values have changed significantly with normalization!\n",
    "\n",
    "In the next code cell, you'll take a look at the distribution of the normalized data, where it should now resemble a normal distribution."
   ]
  },
  {
   "cell_type": "markdown",
   "id": "fd2eed0b",
   "metadata": {
    "papermill": {
     "duration": 0.005183,
     "end_time": "2022-07-19T01:14:37.355304",
     "exception": false,
     "start_time": "2022-07-19T01:14:37.350121",
     "status": "completed"
    },
    "tags": []
   },
   "source": []
  },
  {
   "cell_type": "code",
   "execution_count": 9,
   "id": "8b5fecc4",
   "metadata": {
    "execution": {
     "iopub.execute_input": "2022-07-19T01:14:37.368366Z",
     "iopub.status.busy": "2022-07-19T01:14:37.367951Z",
     "iopub.status.idle": "2022-07-19T01:14:39.306645Z",
     "shell.execute_reply": "2022-07-19T01:14:39.305289Z"
    },
    "papermill": {
     "duration": 1.947869,
     "end_time": "2022-07-19T01:14:39.308797",
     "exception": false,
     "start_time": "2022-07-19T01:14:37.360928",
     "status": "completed"
    },
    "tags": []
   },
   "outputs": [
    {
     "data": {
      "image/png": "[encoded data removed]",
      "text/plain": [
       "<Figure size 432x288 with 1 Axes>"
      ]
     },
     "metadata": {
      "needs_background": "light"
     },
     "output_type": "display_data"
    }
   ],
   "source": [
    "# plot normalized data\n",
    "ax = sns.histplot(normalized_pledges, kde=True)\n",
    "ax.set_title(\"Normalized data\")\n",
    "plt.show()"
   ]
  },
  {
   "cell_type": "markdown",
   "id": "1e884abb",
   "metadata": {
    "papermill": {
     "duration": 0.005405,
     "end_time": "2022-07-19T01:14:39.320066",
     "exception": false,
     "start_time": "2022-07-19T01:14:39.314661",
     "status": "completed"
    },
    "tags": []
   },
   "source": [
    "We used the \"usd_pledged_real\" column. Follow the same process to normalize the \"pledged\" column. "
   ]
  },
  {
   "cell_type": "code",
   "execution_count": 10,
   "id": "04703323",
   "metadata": {
    "execution": {
     "iopub.execute_input": "2022-07-19T01:14:39.333690Z",
     "iopub.status.busy": "2022-07-19T01:14:39.332775Z",
     "iopub.status.idle": "2022-07-19T01:14:39.660715Z",
     "shell.execute_reply": "2022-07-19T01:14:39.659653Z"
    },
    "papermill": {
     "duration": 0.337702,
     "end_time": "2022-07-19T01:14:39.663381",
     "exception": false,
     "start_time": "2022-07-19T01:14:39.325679",
     "status": "completed"
    },
    "tags": []
   },
   "outputs": [],
   "source": [
    "# TODO: Your code here!\n",
    "positive_pledges = kickstarters_2017.pledged.loc[kickstarters_2017.pledged > 0]\n",
    "\n",
    "\n",
    "normalized_pledges = pd.Series(stats.boxcox(positive_pledges)[0], \n",
    "                               name='pledged', index=positive_pledges.index)"
   ]
  },
  {
   "cell_type": "markdown",
   "id": "c48ec22e",
   "metadata": {
    "papermill": {
     "duration": 0.005843,
     "end_time": "2022-07-19T01:14:39.675802",
     "exception": false,
     "start_time": "2022-07-19T01:14:39.669959",
     "status": "completed"
    },
    "tags": []
   },
   "source": [
    "How does the normalized \"usd_pledged_real\" column look different from when we normalized the \"pledged\" column?  Or, do they look mostly the same?\n",
    "\n",
    "Once you have an answer, run the code cell below."
   ]
  },
  {
   "cell_type": "code",
   "execution_count": 11,
   "id": "c7d56b1f",
   "metadata": {
    "execution": {
     "iopub.execute_input": "2022-07-19T01:14:39.689721Z",
     "iopub.status.busy": "2022-07-19T01:14:39.688868Z",
     "iopub.status.idle": "2022-07-19T01:14:39.697533Z",
     "shell.execute_reply": "2022-07-19T01:14:39.696328Z"
    },
    "papermill": {
     "duration": 0.017699,
     "end_time": "2022-07-19T01:14:39.699401",
     "exception": false,
     "start_time": "2022-07-19T01:14:39.681702",
     "status": "completed"
    },
    "tags": []
   },
   "outputs": [
    {
     "data": {
      "application/javascript": [
       "parent.postMessage({\"jupyterEvent\": \"custom.exercise_interaction\", \"data\": {\"outcomeType\": 1, \"valueTowardsCompletion\": 0.3333333333333333, \"interactionType\": 1, \"questionType\": 4, \"questionId\": \"2_TryNormalization\", \"learnToolsVersion\": \"0.3.4\", \"failureMessage\": \"\", \"exceptionClass\": \"\", \"trace\": \"\"}}, \"*\")"
      ],
      "text/plain": [
       "<IPython.core.display.Javascript object>"
      ]
     },
     "metadata": {},
     "output_type": "display_data"
    },
    {
     "data": {
      "text/markdown": [
       "<span style=\"color:#33cc33\">Correct:</span> \n",
       "\n",
       "The distributions in the normalized data look mostly the same."
      ],
      "text/plain": [
       "Correct: \n",
       "\n",
       "The distributions in the normalized data look mostly the same."
      ]
     },
     "metadata": {},
     "output_type": "display_data"
    }
   ],
   "source": [
    "# Check your answer (Run this code cell to receive credit!)\n",
    "q2.check()"
   ]
  },
  {
   "cell_type": "code",
   "execution_count": 12,
   "id": "d1556351",
   "metadata": {
    "execution": {
     "iopub.execute_input": "2022-07-19T01:14:39.713800Z",
     "iopub.status.busy": "2022-07-19T01:14:39.713246Z",
     "iopub.status.idle": "2022-07-19T01:14:39.716472Z",
     "shell.execute_reply": "2022-07-19T01:14:39.715791Z"
    },
    "papermill": {
     "duration": 0.01256,
     "end_time": "2022-07-19T01:14:39.718230",
     "exception": false,
     "start_time": "2022-07-19T01:14:39.705670",
     "status": "completed"
    },
    "tags": []
   },
   "outputs": [],
   "source": [
    "# Line below will give you a hint\n",
    "#q2.hint()"
   ]
  },
  {
   "cell_type": "markdown",
   "id": "d1f04a90",
   "metadata": {
    "papermill": {
     "duration": 0.005768,
     "end_time": "2022-07-19T01:14:39.730023",
     "exception": false,
     "start_time": "2022-07-19T01:14:39.724255",
     "status": "completed"
    },
    "tags": []
   },
   "source": [
    "# (Optional) More practice\n",
    "\n",
    "Try finding a new dataset and pretend you're preparing to perform a [regression analysis](https://www.kaggle.com/rtatman/the-5-day-regression-challenge). \n",
    "\n",
    "[These datasets are a good start!](https://www.kaggle.com/rtatman/datasets-for-regression-analysis)\n",
    "\n",
    "Pick three or four variables and decide if you need to normalize or scale any of them and, if you think you should, practice applying the correct technique.\n",
    "\n",
    "# Keep going\n",
    "\n",
    "In the next lesson, learn how to [**parse dates**](https://www.kaggle.com/alexisbcook/parsing-dates) in a dataset."
   ]
  },
  {
   "cell_type": "markdown",
   "id": "89f868b4",
   "metadata": {
    "papermill": {
     "duration": 0.005739,
     "end_time": "2022-07-19T01:14:39.741826",
     "exception": false,
     "start_time": "2022-07-19T01:14:39.736087",
     "status": "completed"
    },
    "tags": []
   },
   "source": [
    "---\n",
    "\n",
    "\n",
    "\n",
    "\n",
    "*Have questions or comments? Visit the [course discussion forum](https://www.kaggle.com/learn/data-cleaning/discussion) to chat with other learners.*"
   ]
  }
 ],
 "metadata": {
  "kernelspec": {
   "display_name": "Python 3",
   "language": "python",
   "name": "python3"
  },
  "language_info": {
   "codemirror_mode": {
    "name": "ipython",
    "version": 3
   },
   "file_extension": ".py",
   "mimetype": "text/x-python",
   "name": "python",
   "nbconvert_exporter": "python",
   "pygments_lexer": "ipython3",
   "version": "3.7.12"
  },
  "papermill": {
   "default_parameters": {},
   "duration": 19.565636,
   "end_time": "2022-07-19T01:14:40.569332",
   "environment_variables": {},
   "exception": null,
   "input_path": "__notebook__.ipynb",
   "output_path": "__notebook__.ipynb",
   "parameters": {},
   "start_time": "2022-07-19T01:14:21.003696",
   "version": "2.3.4"
  }
 },
 "nbformat": 4,
 "nbformat_minor": 5
}
